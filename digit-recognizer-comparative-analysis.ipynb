{
 "cells": [
  {
   "cell_type": "code",
   "execution_count": 1,
   "id": "a6ee900e",
   "metadata": {
    "execution": {
     "iopub.execute_input": "2022-08-16T19:20:36.970689Z",
     "iopub.status.busy": "2022-08-16T19:20:36.970088Z",
     "iopub.status.idle": "2022-08-16T19:20:42.241058Z",
     "shell.execute_reply": "2022-08-16T19:20:42.239996Z"
    },
    "papermill": {
     "duration": 5.283191,
     "end_time": "2022-08-16T19:20:42.244674",
     "exception": false,
     "start_time": "2022-08-16T19:20:36.961483",
     "status": "completed"
    },
    "tags": []
   },
   "outputs": [
    {
     "name": "stdout",
     "output_type": "stream",
     "text": [
      "['digit-recognizer']\n"
     ]
    }
   ],
   "source": [
    "# Import libraries\n",
    "import matplotlib.pyplot as plt\n",
    "import numpy as np\n",
    "import pandas as pd\n",
    "import seaborn as sns\n",
    "import tensorflow as tf\n",
    "\n",
    "\n",
    "# import warnings\n",
    "import warnings\n",
    "# filter warnings\n",
    "warnings.filterwarnings('ignore')\n",
    "\n",
    "import os\n",
    "print(os.listdir(\"../input\"))"
   ]
  },
  {
   "cell_type": "markdown",
   "id": "4f115c41",
   "metadata": {
    "papermill": {
     "duration": 0.00575,
     "end_time": "2022-08-16T19:20:42.256806",
     "exception": false,
     "start_time": "2022-08-16T19:20:42.251056",
     "status": "completed"
    },
    "tags": []
   },
   "source": [
    "Reference: \n",
    "1. [Convolutional Neural Network (CNN) Tutorial](https://www.kaggle.com/code/kanncaa1/convolutional-neural-network-cnn-tutorial) by DATAI\n",
    "2. [Introduction to CNN Keras - 0.997 (top 6%)](https://www.kaggle.com/code/yassineghouzam/introduction-to-cnn-keras-0-997-top-6)\n",
    "3. [Simple deep MLP with Keras](https://www.kaggle.com/code/fchollet/simple-deep-mlp-with-keras) by [fchollet](https://www.kaggle.com/fchollet)\n",
    "\n",
    "In a later version of this Notebook we will have to make use of transfer learning and [Data augmentation](https://www.kaggle.com/code/ryanholbrook/data-augmentation/tutorial).\n",
    "\n",
    "# Competition\n",
    "\n",
    "In the [Digit Recognizer](https://www.kaggle.com/competitions/digit-recognizer) competition, the goal is to correctly identify digits from a dataset of tens of thousands of handwritten images (MNIST). Kaggle has curated a set of tutorial-style kernels which cover everything from regression to neural networks and encourages to experiment with different algorithms.\n",
    "\n",
    "# Loading the Dataset"
   ]
  },
  {
   "cell_type": "code",
   "execution_count": 2,
   "id": "adea1491",
   "metadata": {
    "execution": {
     "iopub.execute_input": "2022-08-16T19:20:42.269764Z",
     "iopub.status.busy": "2022-08-16T19:20:42.268532Z",
     "iopub.status.idle": "2022-08-16T19:20:45.264983Z",
     "shell.execute_reply": "2022-08-16T19:20:45.264024Z"
    },
    "papermill": {
     "duration": 3.005123,
     "end_time": "2022-08-16T19:20:45.267323",
     "exception": false,
     "start_time": "2022-08-16T19:20:42.262200",
     "status": "completed"
    },
    "tags": []
   },
   "outputs": [
    {
     "name": "stdout",
     "output_type": "stream",
     "text": [
      "(42000, 785)\n"
     ]
    },
    {
     "data": {
      "text/html": [
       "<div>\n",
       "<style scoped>\n",
       "    .dataframe tbody tr th:only-of-type {\n",
       "        vertical-align: middle;\n",
       "    }\n",
       "\n",
       "    .dataframe tbody tr th {\n",
       "        vertical-align: top;\n",
       "    }\n",
       "\n",
       "    .dataframe thead th {\n",
       "        text-align: right;\n",
       "    }\n",
       "</style>\n",
       "<table border=\"1\" class=\"dataframe\">\n",
       "  <thead>\n",
       "    <tr style=\"text-align: right;\">\n",
       "      <th></th>\n",
       "      <th>label</th>\n",
       "      <th>pixel0</th>\n",
       "      <th>pixel1</th>\n",
       "      <th>pixel2</th>\n",
       "      <th>pixel3</th>\n",
       "      <th>pixel4</th>\n",
       "      <th>pixel5</th>\n",
       "      <th>pixel6</th>\n",
       "      <th>pixel7</th>\n",
       "      <th>pixel8</th>\n",
       "      <th>...</th>\n",
       "      <th>pixel774</th>\n",
       "      <th>pixel775</th>\n",
       "      <th>pixel776</th>\n",
       "      <th>pixel777</th>\n",
       "      <th>pixel778</th>\n",
       "      <th>pixel779</th>\n",
       "      <th>pixel780</th>\n",
       "      <th>pixel781</th>\n",
       "      <th>pixel782</th>\n",
       "      <th>pixel783</th>\n",
       "    </tr>\n",
       "  </thead>\n",
       "  <tbody>\n",
       "    <tr>\n",
       "      <th>0</th>\n",
       "      <td>1</td>\n",
       "      <td>0</td>\n",
       "      <td>0</td>\n",
       "      <td>0</td>\n",
       "      <td>0</td>\n",
       "      <td>0</td>\n",
       "      <td>0</td>\n",
       "      <td>0</td>\n",
       "      <td>0</td>\n",
       "      <td>0</td>\n",
       "      <td>...</td>\n",
       "      <td>0</td>\n",
       "      <td>0</td>\n",
       "      <td>0</td>\n",
       "      <td>0</td>\n",
       "      <td>0</td>\n",
       "      <td>0</td>\n",
       "      <td>0</td>\n",
       "      <td>0</td>\n",
       "      <td>0</td>\n",
       "      <td>0</td>\n",
       "    </tr>\n",
       "    <tr>\n",
       "      <th>1</th>\n",
       "      <td>0</td>\n",
       "      <td>0</td>\n",
       "      <td>0</td>\n",
       "      <td>0</td>\n",
       "      <td>0</td>\n",
       "      <td>0</td>\n",
       "      <td>0</td>\n",
       "      <td>0</td>\n",
       "      <td>0</td>\n",
       "      <td>0</td>\n",
       "      <td>...</td>\n",
       "      <td>0</td>\n",
       "      <td>0</td>\n",
       "      <td>0</td>\n",
       "      <td>0</td>\n",
       "      <td>0</td>\n",
       "      <td>0</td>\n",
       "      <td>0</td>\n",
       "      <td>0</td>\n",
       "      <td>0</td>\n",
       "      <td>0</td>\n",
       "    </tr>\n",
       "    <tr>\n",
       "      <th>2</th>\n",
       "      <td>1</td>\n",
       "      <td>0</td>\n",
       "      <td>0</td>\n",
       "      <td>0</td>\n",
       "      <td>0</td>\n",
       "      <td>0</td>\n",
       "      <td>0</td>\n",
       "      <td>0</td>\n",
       "      <td>0</td>\n",
       "      <td>0</td>\n",
       "      <td>...</td>\n",
       "      <td>0</td>\n",
       "      <td>0</td>\n",
       "      <td>0</td>\n",
       "      <td>0</td>\n",
       "      <td>0</td>\n",
       "      <td>0</td>\n",
       "      <td>0</td>\n",
       "      <td>0</td>\n",
       "      <td>0</td>\n",
       "      <td>0</td>\n",
       "    </tr>\n",
       "    <tr>\n",
       "      <th>3</th>\n",
       "      <td>4</td>\n",
       "      <td>0</td>\n",
       "      <td>0</td>\n",
       "      <td>0</td>\n",
       "      <td>0</td>\n",
       "      <td>0</td>\n",
       "      <td>0</td>\n",
       "      <td>0</td>\n",
       "      <td>0</td>\n",
       "      <td>0</td>\n",
       "      <td>...</td>\n",
       "      <td>0</td>\n",
       "      <td>0</td>\n",
       "      <td>0</td>\n",
       "      <td>0</td>\n",
       "      <td>0</td>\n",
       "      <td>0</td>\n",
       "      <td>0</td>\n",
       "      <td>0</td>\n",
       "      <td>0</td>\n",
       "      <td>0</td>\n",
       "    </tr>\n",
       "    <tr>\n",
       "      <th>4</th>\n",
       "      <td>0</td>\n",
       "      <td>0</td>\n",
       "      <td>0</td>\n",
       "      <td>0</td>\n",
       "      <td>0</td>\n",
       "      <td>0</td>\n",
       "      <td>0</td>\n",
       "      <td>0</td>\n",
       "      <td>0</td>\n",
       "      <td>0</td>\n",
       "      <td>...</td>\n",
       "      <td>0</td>\n",
       "      <td>0</td>\n",
       "      <td>0</td>\n",
       "      <td>0</td>\n",
       "      <td>0</td>\n",
       "      <td>0</td>\n",
       "      <td>0</td>\n",
       "      <td>0</td>\n",
       "      <td>0</td>\n",
       "      <td>0</td>\n",
       "    </tr>\n",
       "  </tbody>\n",
       "</table>\n",
       "<p>5 rows × 785 columns</p>\n",
       "</div>"
      ],
      "text/plain": [
       "   label  pixel0  pixel1  pixel2  pixel3  pixel4  pixel5  pixel6  pixel7  \\\n",
       "0      1       0       0       0       0       0       0       0       0   \n",
       "1      0       0       0       0       0       0       0       0       0   \n",
       "2      1       0       0       0       0       0       0       0       0   \n",
       "3      4       0       0       0       0       0       0       0       0   \n",
       "4      0       0       0       0       0       0       0       0       0   \n",
       "\n",
       "   pixel8  ...  pixel774  pixel775  pixel776  pixel777  pixel778  pixel779  \\\n",
       "0       0  ...         0         0         0         0         0         0   \n",
       "1       0  ...         0         0         0         0         0         0   \n",
       "2       0  ...         0         0         0         0         0         0   \n",
       "3       0  ...         0         0         0         0         0         0   \n",
       "4       0  ...         0         0         0         0         0         0   \n",
       "\n",
       "   pixel780  pixel781  pixel782  pixel783  \n",
       "0         0         0         0         0  \n",
       "1         0         0         0         0  \n",
       "2         0         0         0         0  \n",
       "3         0         0         0         0  \n",
       "4         0         0         0         0  \n",
       "\n",
       "[5 rows x 785 columns]"
      ]
     },
     "execution_count": 2,
     "metadata": {},
     "output_type": "execute_result"
    }
   ],
   "source": [
    "# Read the training data from csv-file\n",
    "df_train = pd.read_csv(\"../input/digit-recognizer/train.csv\")\n",
    "print(df_train.shape)\n",
    "df_train.head()"
   ]
  },
  {
   "cell_type": "code",
   "execution_count": 3,
   "id": "db1b5c1e",
   "metadata": {
    "execution": {
     "iopub.execute_input": "2022-08-16T19:20:45.281515Z",
     "iopub.status.busy": "2022-08-16T19:20:45.281221Z",
     "iopub.status.idle": "2022-08-16T19:20:47.152333Z",
     "shell.execute_reply": "2022-08-16T19:20:47.151400Z"
    },
    "papermill": {
     "duration": 1.882839,
     "end_time": "2022-08-16T19:20:47.156458",
     "exception": false,
     "start_time": "2022-08-16T19:20:45.273619",
     "status": "completed"
    },
    "tags": []
   },
   "outputs": [
    {
     "name": "stdout",
     "output_type": "stream",
     "text": [
      "(28000, 784)\n"
     ]
    },
    {
     "data": {
      "text/html": [
       "<div>\n",
       "<style scoped>\n",
       "    .dataframe tbody tr th:only-of-type {\n",
       "        vertical-align: middle;\n",
       "    }\n",
       "\n",
       "    .dataframe tbody tr th {\n",
       "        vertical-align: top;\n",
       "    }\n",
       "\n",
       "    .dataframe thead th {\n",
       "        text-align: right;\n",
       "    }\n",
       "</style>\n",
       "<table border=\"1\" class=\"dataframe\">\n",
       "  <thead>\n",
       "    <tr style=\"text-align: right;\">\n",
       "      <th></th>\n",
       "      <th>pixel0</th>\n",
       "      <th>pixel1</th>\n",
       "      <th>pixel2</th>\n",
       "      <th>pixel3</th>\n",
       "      <th>pixel4</th>\n",
       "      <th>pixel5</th>\n",
       "      <th>pixel6</th>\n",
       "      <th>pixel7</th>\n",
       "      <th>pixel8</th>\n",
       "      <th>pixel9</th>\n",
       "      <th>...</th>\n",
       "      <th>pixel774</th>\n",
       "      <th>pixel775</th>\n",
       "      <th>pixel776</th>\n",
       "      <th>pixel777</th>\n",
       "      <th>pixel778</th>\n",
       "      <th>pixel779</th>\n",
       "      <th>pixel780</th>\n",
       "      <th>pixel781</th>\n",
       "      <th>pixel782</th>\n",
       "      <th>pixel783</th>\n",
       "    </tr>\n",
       "  </thead>\n",
       "  <tbody>\n",
       "    <tr>\n",
       "      <th>0</th>\n",
       "      <td>0</td>\n",
       "      <td>0</td>\n",
       "      <td>0</td>\n",
       "      <td>0</td>\n",
       "      <td>0</td>\n",
       "      <td>0</td>\n",
       "      <td>0</td>\n",
       "      <td>0</td>\n",
       "      <td>0</td>\n",
       "      <td>0</td>\n",
       "      <td>...</td>\n",
       "      <td>0</td>\n",
       "      <td>0</td>\n",
       "      <td>0</td>\n",
       "      <td>0</td>\n",
       "      <td>0</td>\n",
       "      <td>0</td>\n",
       "      <td>0</td>\n",
       "      <td>0</td>\n",
       "      <td>0</td>\n",
       "      <td>0</td>\n",
       "    </tr>\n",
       "    <tr>\n",
       "      <th>1</th>\n",
       "      <td>0</td>\n",
       "      <td>0</td>\n",
       "      <td>0</td>\n",
       "      <td>0</td>\n",
       "      <td>0</td>\n",
       "      <td>0</td>\n",
       "      <td>0</td>\n",
       "      <td>0</td>\n",
       "      <td>0</td>\n",
       "      <td>0</td>\n",
       "      <td>...</td>\n",
       "      <td>0</td>\n",
       "      <td>0</td>\n",
       "      <td>0</td>\n",
       "      <td>0</td>\n",
       "      <td>0</td>\n",
       "      <td>0</td>\n",
       "      <td>0</td>\n",
       "      <td>0</td>\n",
       "      <td>0</td>\n",
       "      <td>0</td>\n",
       "    </tr>\n",
       "    <tr>\n",
       "      <th>2</th>\n",
       "      <td>0</td>\n",
       "      <td>0</td>\n",
       "      <td>0</td>\n",
       "      <td>0</td>\n",
       "      <td>0</td>\n",
       "      <td>0</td>\n",
       "      <td>0</td>\n",
       "      <td>0</td>\n",
       "      <td>0</td>\n",
       "      <td>0</td>\n",
       "      <td>...</td>\n",
       "      <td>0</td>\n",
       "      <td>0</td>\n",
       "      <td>0</td>\n",
       "      <td>0</td>\n",
       "      <td>0</td>\n",
       "      <td>0</td>\n",
       "      <td>0</td>\n",
       "      <td>0</td>\n",
       "      <td>0</td>\n",
       "      <td>0</td>\n",
       "    </tr>\n",
       "    <tr>\n",
       "      <th>3</th>\n",
       "      <td>0</td>\n",
       "      <td>0</td>\n",
       "      <td>0</td>\n",
       "      <td>0</td>\n",
       "      <td>0</td>\n",
       "      <td>0</td>\n",
       "      <td>0</td>\n",
       "      <td>0</td>\n",
       "      <td>0</td>\n",
       "      <td>0</td>\n",
       "      <td>...</td>\n",
       "      <td>0</td>\n",
       "      <td>0</td>\n",
       "      <td>0</td>\n",
       "      <td>0</td>\n",
       "      <td>0</td>\n",
       "      <td>0</td>\n",
       "      <td>0</td>\n",
       "      <td>0</td>\n",
       "      <td>0</td>\n",
       "      <td>0</td>\n",
       "    </tr>\n",
       "    <tr>\n",
       "      <th>4</th>\n",
       "      <td>0</td>\n",
       "      <td>0</td>\n",
       "      <td>0</td>\n",
       "      <td>0</td>\n",
       "      <td>0</td>\n",
       "      <td>0</td>\n",
       "      <td>0</td>\n",
       "      <td>0</td>\n",
       "      <td>0</td>\n",
       "      <td>0</td>\n",
       "      <td>...</td>\n",
       "      <td>0</td>\n",
       "      <td>0</td>\n",
       "      <td>0</td>\n",
       "      <td>0</td>\n",
       "      <td>0</td>\n",
       "      <td>0</td>\n",
       "      <td>0</td>\n",
       "      <td>0</td>\n",
       "      <td>0</td>\n",
       "      <td>0</td>\n",
       "    </tr>\n",
       "  </tbody>\n",
       "</table>\n",
       "<p>5 rows × 784 columns</p>\n",
       "</div>"
      ],
      "text/plain": [
       "   pixel0  pixel1  pixel2  pixel3  pixel4  pixel5  pixel6  pixel7  pixel8  \\\n",
       "0       0       0       0       0       0       0       0       0       0   \n",
       "1       0       0       0       0       0       0       0       0       0   \n",
       "2       0       0       0       0       0       0       0       0       0   \n",
       "3       0       0       0       0       0       0       0       0       0   \n",
       "4       0       0       0       0       0       0       0       0       0   \n",
       "\n",
       "   pixel9  ...  pixel774  pixel775  pixel776  pixel777  pixel778  pixel779  \\\n",
       "0       0  ...         0         0         0         0         0         0   \n",
       "1       0  ...         0         0         0         0         0         0   \n",
       "2       0  ...         0         0         0         0         0         0   \n",
       "3       0  ...         0         0         0         0         0         0   \n",
       "4       0  ...         0         0         0         0         0         0   \n",
       "\n",
       "   pixel780  pixel781  pixel782  pixel783  \n",
       "0         0         0         0         0  \n",
       "1         0         0         0         0  \n",
       "2         0         0         0         0  \n",
       "3         0         0         0         0  \n",
       "4         0         0         0         0  \n",
       "\n",
       "[5 rows x 784 columns]"
      ]
     },
     "execution_count": 3,
     "metadata": {},
     "output_type": "execute_result"
    }
   ],
   "source": [
    "# Read the test data from csv-file\n",
    "df_test = pd.read_csv(\"../input/digit-recognizer/test.csv\")\n",
    "print(df_test.shape)\n",
    "df_test.head()"
   ]
  },
  {
   "cell_type": "code",
   "execution_count": 4,
   "id": "f6765211",
   "metadata": {
    "execution": {
     "iopub.execute_input": "2022-08-16T19:20:47.182494Z",
     "iopub.status.busy": "2022-08-16T19:20:47.182043Z",
     "iopub.status.idle": "2022-08-16T19:20:47.273551Z",
     "shell.execute_reply": "2022-08-16T19:20:47.272539Z"
    },
    "papermill": {
     "duration": 0.107569,
     "end_time": "2022-08-16T19:20:47.276278",
     "exception": false,
     "start_time": "2022-08-16T19:20:47.168709",
     "status": "completed"
    },
    "tags": []
   },
   "outputs": [],
   "source": [
    "# Save the labels in the training data to a variable\n",
    "Y_train = df_train[\"label\"]\n",
    "\n",
    "# Then drop the 'label' column from the training dataset\n",
    "X_train = df_train.drop(labels = [\"label\"],axis = 1) "
   ]
  },
  {
   "cell_type": "code",
   "execution_count": 5,
   "id": "c6b824dd",
   "metadata": {
    "execution": {
     "iopub.execute_input": "2022-08-16T19:20:47.299317Z",
     "iopub.status.busy": "2022-08-16T19:20:47.298667Z",
     "iopub.status.idle": "2022-08-16T19:20:47.623211Z",
     "shell.execute_reply": "2022-08-16T19:20:47.622134Z"
    },
    "papermill": {
     "duration": 0.338796,
     "end_time": "2022-08-16T19:20:47.626292",
     "exception": false,
     "start_time": "2022-08-16T19:20:47.287496",
     "status": "completed"
    },
    "tags": []
   },
   "outputs": [
    {
     "data": {
      "text/plain": [
       "1    4684\n",
       "7    4401\n",
       "3    4351\n",
       "9    4188\n",
       "2    4177\n",
       "6    4137\n",
       "0    4132\n",
       "4    4072\n",
       "8    4063\n",
       "5    3795\n",
       "Name: label, dtype: int64"
      ]
     },
     "execution_count": 5,
     "metadata": {},
     "output_type": "execute_result"
    },
    {
     "data": {
      "image/png": "[encoded data removed]",
      "text/plain": [
       "<Figure size 1080x504 with 1 Axes>"
      ]
     },
     "metadata": {
      "needs_background": "light"
     },
     "output_type": "display_data"
    }
   ],
   "source": [
    "# Count and visualize the number of digits classes\n",
    "plt.figure(figsize=(15,7))\n",
    "g = sns.countplot(Y_train, palette=\"icefire\")\n",
    "plt.title(\"Number of digit classes\")\n",
    "Y_train.value_counts()"
   ]
  },
  {
   "cell_type": "markdown",
   "id": "7f539f71",
   "metadata": {
    "papermill": {
     "duration": 0.010727,
     "end_time": "2022-08-16T19:20:47.648933",
     "exception": false,
     "start_time": "2022-08-16T19:20:47.638206",
     "status": "completed"
    },
    "tags": []
   },
   "source": [
    "The counts for the digits are very similar."
   ]
  },
  {
   "cell_type": "code",
   "execution_count": 6,
   "id": "1ab28677",
   "metadata": {
    "execution": {
     "iopub.execute_input": "2022-08-16T19:20:47.672457Z",
     "iopub.status.busy": "2022-08-16T19:20:47.672075Z",
     "iopub.status.idle": "2022-08-16T19:20:47.698552Z",
     "shell.execute_reply": "2022-08-16T19:20:47.697716Z"
    },
    "papermill": {
     "duration": 0.041741,
     "end_time": "2022-08-16T19:20:47.701283",
     "exception": false,
     "start_time": "2022-08-16T19:20:47.659542",
     "status": "completed"
    },
    "tags": []
   },
   "outputs": [
    {
     "data": {
      "text/plain": [
       "count       784\n",
       "unique        1\n",
       "top       False\n",
       "freq        784\n",
       "dtype: object"
      ]
     },
     "execution_count": 6,
     "metadata": {},
     "output_type": "execute_result"
    }
   ],
   "source": [
    "# Check training data for null values\n",
    "X_train.isnull().any().describe()"
   ]
  },
  {
   "cell_type": "code",
   "execution_count": 7,
   "id": "08e1b67e",
   "metadata": {
    "execution": {
     "iopub.execute_input": "2022-08-16T19:20:47.723931Z",
     "iopub.status.busy": "2022-08-16T19:20:47.723494Z",
     "iopub.status.idle": "2022-08-16T19:20:47.745913Z",
     "shell.execute_reply": "2022-08-16T19:20:47.745006Z"
    },
    "papermill": {
     "duration": 0.036286,
     "end_time": "2022-08-16T19:20:47.748533",
     "exception": false,
     "start_time": "2022-08-16T19:20:47.712247",
     "status": "completed"
    },
    "tags": []
   },
   "outputs": [
    {
     "data": {
      "text/plain": [
       "count       784\n",
       "unique        1\n",
       "top       False\n",
       "freq        784\n",
       "dtype: object"
      ]
     },
     "execution_count": 7,
     "metadata": {},
     "output_type": "execute_result"
    }
   ],
   "source": [
    "# Check test data for null values\n",
    "df_test.isnull().any().describe()"
   ]
  },
  {
   "cell_type": "code",
   "execution_count": 8,
   "id": "5df30389",
   "metadata": {
    "execution": {
     "iopub.execute_input": "2022-08-16T19:20:47.771003Z",
     "iopub.status.busy": "2022-08-16T19:20:47.770630Z",
     "iopub.status.idle": "2022-08-16T19:20:48.025885Z",
     "shell.execute_reply": "2022-08-16T19:20:48.024758Z"
    },
    "papermill": {
     "duration": 0.27003,
     "end_time": "2022-08-16T19:20:48.029350",
     "exception": false,
     "start_time": "2022-08-16T19:20:47.759320",
     "status": "completed"
    },
    "tags": []
   },
   "outputs": [
    {
     "data": {
      "image/png": "[encoded data removed]",
      "text/plain": [
       "<Figure size 432x288 with 1 Axes>"
      ]
     },
     "metadata": {
      "needs_background": "light"
     },
     "output_type": "display_data"
    }
   ],
   "source": [
    "# Plot an example of the reshaped images\n",
    "img = X_train.iloc[72].values\n",
    "img = img.reshape((28,28))\n",
    "plt.imshow(img,cmap='gray')\n",
    "plt.title(X_train.iloc[0,0])\n",
    "plt.axis(\"off\")\n",
    "plt.show()"
   ]
  },
  {
   "cell_type": "code",
   "execution_count": 9,
   "id": "2f585c28",
   "metadata": {
    "execution": {
     "iopub.execute_input": "2022-08-16T19:20:48.068581Z",
     "iopub.status.busy": "2022-08-16T19:20:48.067953Z",
     "iopub.status.idle": "2022-08-16T19:20:48.168585Z",
     "shell.execute_reply": "2022-08-16T19:20:48.167294Z"
    },
    "papermill": {
     "duration": 0.125074,
     "end_time": "2022-08-16T19:20:48.172659",
     "exception": false,
     "start_time": "2022-08-16T19:20:48.047585",
     "status": "completed"
    },
    "tags": []
   },
   "outputs": [
    {
     "data": {
      "image/png": "[encoded data removed]",
      "text/plain": [
       "<Figure size 432x288 with 1 Axes>"
      ]
     },
     "metadata": {
      "needs_background": "light"
     },
     "output_type": "display_data"
    }
   ],
   "source": [
    "# Plot another example of the reshaped images\n",
    "img = X_train.iloc[73].values\n",
    "img = img.reshape((28,28))\n",
    "plt.imshow(img,cmap='gray')\n",
    "plt.title(X_train.iloc[3,0])\n",
    "plt.axis(\"off\")\n",
    "plt.show()"
   ]
  },
  {
   "cell_type": "markdown",
   "id": "c24cbe9e",
   "metadata": {
    "papermill": {
     "duration": 0.019374,
     "end_time": "2022-08-16T19:20:48.213015",
     "exception": false,
     "start_time": "2022-08-16T19:20:48.193641",
     "status": "completed"
    },
    "tags": []
   },
   "source": [
    "# Normalization, Reshape and Label Encoding"
   ]
  },
  {
   "cell_type": "code",
   "execution_count": 10,
   "id": "311c9df8",
   "metadata": {
    "execution": {
     "iopub.execute_input": "2022-08-16T19:20:48.240718Z",
     "iopub.status.busy": "2022-08-16T19:20:48.240432Z",
     "iopub.status.idle": "2022-08-16T19:20:48.412321Z",
     "shell.execute_reply": "2022-08-16T19:20:48.410235Z"
    },
    "papermill": {
     "duration": 0.182625,
     "end_time": "2022-08-16T19:20:48.414485",
     "exception": false,
     "start_time": "2022-08-16T19:20:48.231860",
     "status": "completed"
    },
    "tags": []
   },
   "outputs": [
    {
     "name": "stdout",
     "output_type": "stream",
     "text": [
      "X_train shape:  (42000, 784)\n",
      "X_test shape:  (28000, 784)\n"
     ]
    }
   ],
   "source": [
    "# Normalize the data, because CNNs work better with normalized data\n",
    "X_train = X_train / 255.0\n",
    "X_test = df_test / 255.0\n",
    "print(\"X_train shape: \",X_train.shape)\n",
    "print(\"X_test shape: \",X_test.shape)"
   ]
  },
  {
   "cell_type": "code",
   "execution_count": 11,
   "id": "6fb47c17",
   "metadata": {
    "execution": {
     "iopub.execute_input": "2022-08-16T19:20:48.429821Z",
     "iopub.status.busy": "2022-08-16T19:20:48.429503Z",
     "iopub.status.idle": "2022-08-16T19:20:48.436390Z",
     "shell.execute_reply": "2022-08-16T19:20:48.435425Z"
    },
    "papermill": {
     "duration": 0.01744,
     "end_time": "2022-08-16T19:20:48.439063",
     "exception": false,
     "start_time": "2022-08-16T19:20:48.421623",
     "status": "completed"
    },
    "tags": []
   },
   "outputs": [
    {
     "name": "stdout",
     "output_type": "stream",
     "text": [
      "X_train shape:  (42000, 28, 28, 1)\n",
      "X_test shape:  (28000, 28, 28, 1)\n"
     ]
    }
   ],
   "source": [
    "# Reshape all data to 28x28x1 3D matrices\n",
    "X_train = X_train.values.reshape(-1,28,28,1) # Keras needs an extra dimension in the end (channels)\n",
    "X_test = df_test.values.reshape(-1,28,28,1)\n",
    "print(\"X_train shape: \",X_train.shape)\n",
    "print(\"X_test shape: \",X_test.shape)"
   ]
  },
  {
   "cell_type": "code",
   "execution_count": 12,
   "id": "d399147a",
   "metadata": {
    "execution": {
     "iopub.execute_input": "2022-08-16T19:20:48.455110Z",
     "iopub.status.busy": "2022-08-16T19:20:48.454330Z",
     "iopub.status.idle": "2022-08-16T19:20:49.002933Z",
     "shell.execute_reply": "2022-08-16T19:20:49.001660Z"
    },
    "papermill": {
     "duration": 0.558583,
     "end_time": "2022-08-16T19:20:49.005217",
     "exception": false,
     "start_time": "2022-08-16T19:20:48.446634",
     "status": "completed"
    },
    "tags": []
   },
   "outputs": [
    {
     "name": "stdout",
     "output_type": "stream",
     "text": [
      "[[0. 1. 0. ... 0. 0. 0.]\n",
      " [1. 0. 0. ... 0. 0. 0.]\n",
      " [0. 1. 0. ... 0. 0. 0.]\n",
      " ...\n",
      " [0. 0. 0. ... 1. 0. 0.]\n",
      " [0. 0. 0. ... 0. 0. 0.]\n",
      " [0. 0. 0. ... 0. 0. 1.]]\n"
     ]
    }
   ],
   "source": [
    "# Label Encoding \n",
    "from keras.utils.np_utils import to_categorical \n",
    "Y_train = to_categorical(Y_train, num_classes = 10)\n",
    "print(Y_train)"
   ]
  },
  {
   "cell_type": "markdown",
   "id": "b2df502b",
   "metadata": {
    "papermill": {
     "duration": 0.006919,
     "end_time": "2022-08-16T19:20:49.019887",
     "exception": false,
     "start_time": "2022-08-16T19:20:49.012968",
     "status": "completed"
    },
    "tags": []
   },
   "source": [
    "# Train Test Split"
   ]
  },
  {
   "cell_type": "code",
   "execution_count": 13,
   "id": "19e13f46",
   "metadata": {
    "execution": {
     "iopub.execute_input": "2022-08-16T19:20:49.035392Z",
     "iopub.status.busy": "2022-08-16T19:20:49.035058Z",
     "iopub.status.idle": "2022-08-16T19:20:49.675315Z",
     "shell.execute_reply": "2022-08-16T19:20:49.674212Z"
    },
    "papermill": {
     "duration": 0.650878,
     "end_time": "2022-08-16T19:20:49.677881",
     "exception": false,
     "start_time": "2022-08-16T19:20:49.027003",
     "status": "completed"
    },
    "tags": []
   },
   "outputs": [
    {
     "name": "stdout",
     "output_type": "stream",
     "text": [
      "x_train shape (37800, 28, 28, 1)\n",
      "X_val shape (4200, 28, 28, 1)\n",
      "y_train shape (37800, 10)\n",
      "y_val shape (4200, 10)\n"
     ]
    }
   ],
   "source": [
    "# Split the train and the validation set for the fitting\n",
    "from sklearn.model_selection import train_test_split\n",
    "X_train, X_val, Y_train, Y_val = train_test_split(X_train, Y_train, test_size = 0.1, random_state=2)\n",
    "print(\"x_train shape\",X_train.shape)\n",
    "print(\"X_val shape\",X_val.shape)\n",
    "print(\"y_train shape\",Y_train.shape)\n",
    "print(\"y_val shape\",Y_val.shape)"
   ]
  },
  {
   "cell_type": "code",
   "execution_count": 14,
   "id": "5445ecd8",
   "metadata": {
    "execution": {
     "iopub.execute_input": "2022-08-16T19:20:49.701462Z",
     "iopub.status.busy": "2022-08-16T19:20:49.700899Z",
     "iopub.status.idle": "2022-08-16T19:20:49.886942Z",
     "shell.execute_reply": "2022-08-16T19:20:49.885707Z"
    },
    "papermill": {
     "duration": 0.200322,
     "end_time": "2022-08-16T19:20:49.889423",
     "exception": false,
     "start_time": "2022-08-16T19:20:49.689101",
     "status": "completed"
    },
    "tags": []
   },
   "outputs": [
    {
     "data": {
      "image/png": "[encoded data removed]",
      "text/plain": [
       "<Figure size 432x288 with 1 Axes>"
      ]
     },
     "metadata": {
      "needs_background": "light"
     },
     "output_type": "display_data"
    }
   ],
   "source": [
    "# Some examples\n",
    "plt.imshow(X_train[21][:,:,0],cmap='gray')\n",
    "plt.show()"
   ]
  },
  {
   "cell_type": "markdown",
   "id": "ea57e58e",
   "metadata": {
    "papermill": {
     "duration": 0.007105,
     "end_time": "2022-08-16T19:20:49.904344",
     "exception": false,
     "start_time": "2022-08-16T19:20:49.897239",
     "status": "completed"
    },
    "tags": []
   },
   "source": [
    "# Convolutional Neural Network\n",
    "\n",
    "Running convolutions and pooling for feature detection."
   ]
  },
  {
   "cell_type": "code",
   "execution_count": 15,
   "id": "0de7d8a2",
   "metadata": {
    "execution": {
     "iopub.execute_input": "2022-08-16T19:20:49.921220Z",
     "iopub.status.busy": "2022-08-16T19:20:49.920161Z",
     "iopub.status.idle": "2022-08-16T19:20:52.839916Z",
     "shell.execute_reply": "2022-08-16T19:20:52.837785Z"
    },
    "papermill": {
     "duration": 2.930999,
     "end_time": "2022-08-16T19:20:52.842582",
     "exception": false,
     "start_time": "2022-08-16T19:20:49.911583",
     "status": "completed"
    },
    "tags": []
   },
   "outputs": [
    {
     "name": "stderr",
     "output_type": "stream",
     "text": [
      "2022-08-16 19:20:50.022781: I tensorflow/stream_executor/cuda/cuda_gpu_executor.cc:937] successful NUMA node read from SysFS had negative value (-1), but there must be at least one NUMA node, so returning NUMA node zero\n",
      "2022-08-16 19:20:50.146050: I tensorflow/stream_executor/cuda/cuda_gpu_executor.cc:937] successful NUMA node read from SysFS had negative value (-1), but there must be at least one NUMA node, so returning NUMA node zero\n",
      "2022-08-16 19:20:50.146878: I tensorflow/stream_executor/cuda/cuda_gpu_executor.cc:937] successful NUMA node read from SysFS had negative value (-1), but there must be at least one NUMA node, so returning NUMA node zero\n",
      "2022-08-16 19:20:50.148901: I tensorflow/core/platform/cpu_feature_guard.cc:142] This TensorFlow binary is optimized with oneAPI Deep Neural Network Library (oneDNN) to use the following CPU instructions in performance-critical operations:  AVX2 AVX512F FMA\n",
      "To enable them in other operations, rebuild TensorFlow with the appropriate compiler flags.\n",
      "2022-08-16 19:20:50.149245: I tensorflow/stream_executor/cuda/cuda_gpu_executor.cc:937] successful NUMA node read from SysFS had negative value (-1), but there must be at least one NUMA node, so returning NUMA node zero\n",
      "2022-08-16 19:20:50.150362: I tensorflow/stream_executor/cuda/cuda_gpu_executor.cc:937] successful NUMA node read from SysFS had negative value (-1), but there must be at least one NUMA node, so returning NUMA node zero\n",
      "2022-08-16 19:20:50.151424: I tensorflow/stream_executor/cuda/cuda_gpu_executor.cc:937] successful NUMA node read from SysFS had negative value (-1), but there must be at least one NUMA node, so returning NUMA node zero\n",
      "2022-08-16 19:20:52.385441: I tensorflow/stream_executor/cuda/cuda_gpu_executor.cc:937] successful NUMA node read from SysFS had negative value (-1), but there must be at least one NUMA node, so returning NUMA node zero\n",
      "2022-08-16 19:20:52.386354: I tensorflow/stream_executor/cuda/cuda_gpu_executor.cc:937] successful NUMA node read from SysFS had negative value (-1), but there must be at least one NUMA node, so returning NUMA node zero\n",
      "2022-08-16 19:20:52.387036: I tensorflow/stream_executor/cuda/cuda_gpu_executor.cc:937] successful NUMA node read from SysFS had negative value (-1), but there must be at least one NUMA node, so returning NUMA node zero\n",
      "2022-08-16 19:20:52.387620: I tensorflow/core/common_runtime/gpu/gpu_device.cc:1510] Created device /job:localhost/replica:0/task:0/device:GPU:0 with 15403 MB memory:  -> device: 0, name: Tesla P100-PCIE-16GB, pci bus id: 0000:00:04.0, compute capability: 6.0\n"
     ]
    }
   ],
   "source": [
    "from sklearn.metrics import confusion_matrix\n",
    "import itertools\n",
    "\n",
    "from keras.models import Sequential\n",
    "from keras.layers import Dense, Dropout, Flatten, Conv2D, MaxPool2D\n",
    "from keras.preprocessing.image import ImageDataGenerator\n",
    "from keras.callbacks import ReduceLROnPlateau\n",
    "\n",
    "model = Sequential()\n",
    "model.add(Conv2D(filters = 8, kernel_size = (5,5), padding = 'Same', \n",
    "                 activation ='relu', input_shape = (28,28,1)))\n",
    "model.add(MaxPool2D(pool_size=(2,2)))\n",
    "model.add(Dropout(0.25))\n",
    "\n",
    "model.add(Conv2D(filters = 16, kernel_size = (3,3), padding = 'Same', \n",
    "                 activation ='relu'))\n",
    "model.add(MaxPool2D(pool_size=(2,2), strides=(2,2)))\n",
    "model.add(Dropout(0.25))\n",
    "\n",
    "model.add(Flatten())\n",
    "model.add(Dense(256, activation = \"relu\"))\n",
    "model.add(Dropout(0.5))\n",
    "model.add(Dense(10, activation = \"softmax\"))"
   ]
  },
  {
   "cell_type": "code",
   "execution_count": 16,
   "id": "b9956eca",
   "metadata": {
    "execution": {
     "iopub.execute_input": "2022-08-16T19:20:52.860797Z",
     "iopub.status.busy": "2022-08-16T19:20:52.860480Z",
     "iopub.status.idle": "2022-08-16T19:20:53.236542Z",
     "shell.execute_reply": "2022-08-16T19:20:53.235568Z"
    },
    "papermill": {
     "duration": 0.388003,
     "end_time": "2022-08-16T19:20:53.239267",
     "exception": false,
     "start_time": "2022-08-16T19:20:52.851264",
     "status": "completed"
    },
    "tags": []
   },
   "outputs": [],
   "source": [
    "# Compile the model\n",
    "model.compile(\n",
    "    optimizer = tf.keras.optimizers.Adam(lr=0.001, beta_1=0.9, beta_2=0.999), \n",
    "    loss = \"categorical_crossentropy\",\n",
    "    metrics=[\"accuracy\"]\n",
    ")"
   ]
  },
  {
   "cell_type": "code",
   "execution_count": 17,
   "id": "389cb43e",
   "metadata": {
    "execution": {
     "iopub.execute_input": "2022-08-16T19:20:53.255899Z",
     "iopub.status.busy": "2022-08-16T19:20:53.255591Z",
     "iopub.status.idle": "2022-08-16T19:20:53.259863Z",
     "shell.execute_reply": "2022-08-16T19:20:53.258931Z"
    },
    "papermill": {
     "duration": 0.014847,
     "end_time": "2022-08-16T19:20:53.262214",
     "exception": false,
     "start_time": "2022-08-16T19:20:53.247367",
     "status": "completed"
    },
    "tags": []
   },
   "outputs": [],
   "source": [
    "epochs = 30 # Turn up to get more accuracy\n",
    "batch_size = 250"
   ]
  },
  {
   "cell_type": "markdown",
   "id": "f56f5662",
   "metadata": {
    "papermill": {
     "duration": 0.00712,
     "end_time": "2022-08-16T19:20:53.276941",
     "exception": false,
     "start_time": "2022-08-16T19:20:53.269821",
     "status": "completed"
    },
    "tags": []
   },
   "source": [
    "# Data Augmentation\n",
    "\n",
    "... to avoid or at least reduce overfitting."
   ]
  },
  {
   "cell_type": "code",
   "execution_count": 18,
   "id": "47ea11c5",
   "metadata": {
    "execution": {
     "iopub.execute_input": "2022-08-16T19:20:53.292547Z",
     "iopub.status.busy": "2022-08-16T19:20:53.292286Z",
     "iopub.status.idle": "2022-08-16T19:20:53.385301Z",
     "shell.execute_reply": "2022-08-16T19:20:53.384281Z"
    },
    "papermill": {
     "duration": 0.103677,
     "end_time": "2022-08-16T19:20:53.387881",
     "exception": false,
     "start_time": "2022-08-16T19:20:53.284204",
     "status": "completed"
    },
    "tags": []
   },
   "outputs": [],
   "source": [
    "# Data augmentation\n",
    "datagen = ImageDataGenerator(\n",
    "        featurewise_center=False,  # set input mean to 0 over the dataset\n",
    "        samplewise_center=False,  # set each sample mean to 0\n",
    "        featurewise_std_normalization=False,  # divide inputs by std of the dataset\n",
    "        samplewise_std_normalization=False,  # divide each input by its std\n",
    "        zca_whitening=False,  # dimesion reduction\n",
    "        rotation_range=5,  # randomly rotate images in the range 10 degrees\n",
    "        zoom_range = 0.1, # Randomly zoom image 10%\n",
    "        width_shift_range=0.1,  # randomly shift images horizontally 10%\n",
    "        height_shift_range=0.1,  # randomly shift images vertically 10%\n",
    "        horizontal_flip=False,  # randomly flip images\n",
    "        vertical_flip=False)  # randomly flip images\n",
    "\n",
    "datagen.fit(X_train)"
   ]
  },
  {
   "cell_type": "markdown",
   "id": "c875d4bd",
   "metadata": {
    "papermill": {
     "duration": 0.007087,
     "end_time": "2022-08-16T19:20:53.402561",
     "exception": false,
     "start_time": "2022-08-16T19:20:53.395474",
     "status": "completed"
    },
    "tags": []
   },
   "source": [
    "# Train and evaluate the CNN"
   ]
  },
  {
   "cell_type": "code",
   "execution_count": 19,
   "id": "6c354da5",
   "metadata": {
    "execution": {
     "iopub.execute_input": "2022-08-16T19:20:53.418338Z",
     "iopub.status.busy": "2022-08-16T19:20:53.418039Z",
     "iopub.status.idle": "2022-08-16T19:25:54.408297Z",
     "shell.execute_reply": "2022-08-16T19:25:54.407122Z"
    },
    "papermill": {
     "duration": 301.001033,
     "end_time": "2022-08-16T19:25:54.410817",
     "exception": false,
     "start_time": "2022-08-16T19:20:53.409784",
     "status": "completed"
    },
    "tags": []
   },
   "outputs": [
    {
     "name": "stderr",
     "output_type": "stream",
     "text": [
      "2022-08-16 19:20:53.587293: I tensorflow/compiler/mlir/mlir_graph_optimization_pass.cc:185] None of the MLIR Optimization Passes are enabled (registered 2)\n"
     ]
    },
    {
     "name": "stdout",
     "output_type": "stream",
     "text": [
      "Epoch 1/30\n"
     ]
    },
    {
     "name": "stderr",
     "output_type": "stream",
     "text": [
      "2022-08-16 19:20:55.033587: I tensorflow/stream_executor/cuda/cuda_dnn.cc:369] Loaded cuDNN version 8005\n"
     ]
    },
    {
     "name": "stdout",
     "output_type": "stream",
     "text": [
      "151/151 [==============================] - 16s 58ms/step - loss: 1.1579 - accuracy: 0.6085 - val_loss: 0.2304 - val_accuracy: 0.9381\n",
      "Epoch 2/30\n",
      "151/151 [==============================] - 10s 64ms/step - loss: 0.4429 - accuracy: 0.8614 - val_loss: 0.1346 - val_accuracy: 0.9629\n",
      "Epoch 3/30\n",
      "151/151 [==============================] - 9s 58ms/step - loss: 0.3295 - accuracy: 0.8952 - val_loss: 0.1171 - val_accuracy: 0.9669\n",
      "Epoch 4/30\n",
      "151/151 [==============================] - 8s 56ms/step - loss: 0.2735 - accuracy: 0.9149 - val_loss: 0.0965 - val_accuracy: 0.9698\n",
      "Epoch 5/30\n",
      "151/151 [==============================] - 9s 59ms/step - loss: 0.2422 - accuracy: 0.9254 - val_loss: 0.0854 - val_accuracy: 0.9726\n",
      "Epoch 6/30\n",
      "151/151 [==============================] - 9s 56ms/step - loss: 0.2214 - accuracy: 0.9324 - val_loss: 0.0792 - val_accuracy: 0.9779\n",
      "Epoch 7/30\n",
      "151/151 [==============================] - 9s 58ms/step - loss: 0.2076 - accuracy: 0.9373 - val_loss: 0.0723 - val_accuracy: 0.9795\n",
      "Epoch 8/30\n",
      "151/151 [==============================] - 9s 57ms/step - loss: 0.1840 - accuracy: 0.9432 - val_loss: 0.0642 - val_accuracy: 0.9802\n",
      "Epoch 9/30\n",
      "151/151 [==============================] - 9s 62ms/step - loss: 0.1811 - accuracy: 0.9435 - val_loss: 0.0634 - val_accuracy: 0.9810\n",
      "Epoch 10/30\n",
      "151/151 [==============================] - 8s 54ms/step - loss: 0.1773 - accuracy: 0.9456 - val_loss: 0.0591 - val_accuracy: 0.9826\n",
      "Epoch 11/30\n",
      "151/151 [==============================] - 8s 55ms/step - loss: 0.1648 - accuracy: 0.9484 - val_loss: 0.0575 - val_accuracy: 0.9831\n",
      "Epoch 12/30\n",
      "151/151 [==============================] - 9s 59ms/step - loss: 0.1600 - accuracy: 0.9509 - val_loss: 0.0551 - val_accuracy: 0.9833\n",
      "Epoch 13/30\n",
      "151/151 [==============================] - 9s 58ms/step - loss: 0.1520 - accuracy: 0.9529 - val_loss: 0.0519 - val_accuracy: 0.9829\n",
      "Epoch 14/30\n",
      "151/151 [==============================] - 9s 57ms/step - loss: 0.1461 - accuracy: 0.9551 - val_loss: 0.0494 - val_accuracy: 0.9845\n",
      "Epoch 15/30\n",
      "151/151 [==============================] - 9s 62ms/step - loss: 0.1368 - accuracy: 0.9573 - val_loss: 0.0485 - val_accuracy: 0.9852\n",
      "Epoch 16/30\n",
      "151/151 [==============================] - 9s 57ms/step - loss: 0.1351 - accuracy: 0.9590 - val_loss: 0.0461 - val_accuracy: 0.9857\n",
      "Epoch 17/30\n",
      "151/151 [==============================] - 9s 58ms/step - loss: 0.1310 - accuracy: 0.9610 - val_loss: 0.0467 - val_accuracy: 0.9857\n",
      "Epoch 18/30\n",
      "151/151 [==============================] - 9s 57ms/step - loss: 0.1265 - accuracy: 0.9611 - val_loss: 0.0448 - val_accuracy: 0.9869\n",
      "Epoch 19/30\n",
      "151/151 [==============================] - 9s 58ms/step - loss: 0.1240 - accuracy: 0.9617 - val_loss: 0.0441 - val_accuracy: 0.9871\n",
      "Epoch 20/30\n",
      "151/151 [==============================] - 8s 54ms/step - loss: 0.1280 - accuracy: 0.9611 - val_loss: 0.0406 - val_accuracy: 0.9874\n",
      "Epoch 21/30\n",
      "151/151 [==============================] - 9s 57ms/step - loss: 0.1182 - accuracy: 0.9631 - val_loss: 0.0397 - val_accuracy: 0.9879\n",
      "Epoch 22/30\n",
      "151/151 [==============================] - 9s 59ms/step - loss: 0.1166 - accuracy: 0.9632 - val_loss: 0.0389 - val_accuracy: 0.9883\n",
      "Epoch 23/30\n",
      "151/151 [==============================] - 9s 58ms/step - loss: 0.1162 - accuracy: 0.9635 - val_loss: 0.0427 - val_accuracy: 0.9864\n",
      "Epoch 24/30\n",
      "151/151 [==============================] - 9s 57ms/step - loss: 0.1174 - accuracy: 0.9640 - val_loss: 0.0412 - val_accuracy: 0.9864\n",
      "Epoch 25/30\n",
      "151/151 [==============================] - 9s 62ms/step - loss: 0.1096 - accuracy: 0.9665 - val_loss: 0.0373 - val_accuracy: 0.9898\n",
      "Epoch 26/30\n",
      "151/151 [==============================] - 8s 56ms/step - loss: 0.1128 - accuracy: 0.9649 - val_loss: 0.0374 - val_accuracy: 0.9886\n",
      "Epoch 27/30\n",
      "151/151 [==============================] - 8s 54ms/step - loss: 0.1052 - accuracy: 0.9677 - val_loss: 0.0373 - val_accuracy: 0.9879\n",
      "Epoch 28/30\n",
      "151/151 [==============================] - 9s 61ms/step - loss: 0.1047 - accuracy: 0.9677 - val_loss: 0.0371 - val_accuracy: 0.9886\n",
      "Epoch 29/30\n",
      "151/151 [==============================] - 9s 61ms/step - loss: 0.1047 - accuracy: 0.9680 - val_loss: 0.0327 - val_accuracy: 0.9888\n",
      "Epoch 30/30\n",
      "151/151 [==============================] - 9s 57ms/step - loss: 0.0976 - accuracy: 0.9693 - val_loss: 0.0352 - val_accuracy: 0.9886\n"
     ]
    }
   ],
   "source": [
    "# Fit the model\n",
    "history = model.fit_generator(datagen.flow(X_train,Y_train, batch_size=batch_size),\n",
    "                              epochs = epochs, validation_data = (X_val,Y_val), steps_per_epoch=X_train.shape[0] // batch_size)"
   ]
  },
  {
   "cell_type": "code",
   "execution_count": 20,
   "id": "6ea4a64b",
   "metadata": {
    "execution": {
     "iopub.execute_input": "2022-08-16T19:25:54.856730Z",
     "iopub.status.busy": "2022-08-16T19:25:54.855667Z",
     "iopub.status.idle": "2022-08-16T19:25:55.239602Z",
     "shell.execute_reply": "2022-08-16T19:25:55.238698Z"
    },
    "papermill": {
     "duration": 0.613076,
     "end_time": "2022-08-16T19:25:55.241879",
     "exception": false,
     "start_time": "2022-08-16T19:25:54.628803",
     "status": "completed"
    },
    "tags": []
   },
   "outputs": [
    {
     "data": {
      "image/png": "[encoded data removed]",
      "text/plain": [
       "<Figure size 432x288 with 1 Axes>"
      ]
     },
     "metadata": {
      "needs_background": "light"
     },
     "output_type": "display_data"
    },
    {
     "data": {
      "image/png": "[encoded data removed]",
      "text/plain": [
       "<Figure size 432x288 with 1 Axes>"
      ]
     },
     "metadata": {
      "needs_background": "light"
     },
     "output_type": "display_data"
    }
   ],
   "source": [
    "history_df = pd.DataFrame(history.history)\n",
    "history_df.loc[:, ['loss', 'val_loss']].plot();\n",
    "history_df.loc[:, ['accuracy', 'val_accuracy']].plot();"
   ]
  },
  {
   "cell_type": "code",
   "execution_count": 21,
   "id": "195e2b17",
   "metadata": {
    "execution": {
     "iopub.execute_input": "2022-08-16T19:25:55.676702Z",
     "iopub.status.busy": "2022-08-16T19:25:55.676320Z",
     "iopub.status.idle": "2022-08-16T19:25:55.895868Z",
     "shell.execute_reply": "2022-08-16T19:25:55.894700Z"
    },
    "papermill": {
     "duration": 0.439962,
     "end_time": "2022-08-16T19:25:55.898023",
     "exception": false,
     "start_time": "2022-08-16T19:25:55.458061",
     "status": "completed"
    },
    "tags": []
   },
   "outputs": [
    {
     "data": {
      "image/png": "[encoded data removed]",
      "text/plain": [
       "<Figure size 432x288 with 1 Axes>"
      ]
     },
     "metadata": {
      "needs_background": "light"
     },
     "output_type": "display_data"
    }
   ],
   "source": [
    "# Plot the loss and accuracy curves for training and validation \n",
    "plt.plot(history.history['val_loss'], color='b', label=\"validation loss\")\n",
    "plt.title(\"Test Loss\")\n",
    "plt.xlabel(\"Number of Epochs\")\n",
    "plt.ylabel(\"Loss\")\n",
    "plt.legend()\n",
    "plt.show()"
   ]
  },
  {
   "cell_type": "code",
   "execution_count": 22,
   "id": "57463de6",
   "metadata": {
    "execution": {
     "iopub.execute_input": "2022-08-16T19:25:56.387767Z",
     "iopub.status.busy": "2022-08-16T19:25:56.387384Z",
     "iopub.status.idle": "2022-08-16T19:25:58.163999Z",
     "shell.execute_reply": "2022-08-16T19:25:58.162976Z"
    },
    "papermill": {
     "duration": 2.040739,
     "end_time": "2022-08-16T19:25:58.166696",
     "exception": false,
     "start_time": "2022-08-16T19:25:56.125957",
     "status": "completed"
    },
    "tags": []
   },
   "outputs": [],
   "source": [
    "# Submit to Kaggle Competition\n",
    "results = model.predict(\n",
    "    X_test,    \n",
    "    verbose='auto',    \n",
    ")\n",
    "\n",
    "results = np.argmax(results,axis = 1)\n",
    "results = pd.Series(results,name=\"Label\")\n",
    "submission = pd.concat([pd.Series(range(1,28001),name = \"ImageId\"),results],axis = 1)\n",
    "submission.to_csv(\"submission.csv\",index=False)"
   ]
  }
 ],
 "metadata": {
  "kernelspec": {
   "display_name": "Python 3",
   "language": "python",
   "name": "python3"
  },
  "language_info": {
   "codemirror_mode": {
    "name": "ipython",
    "version": 3
   },
   "file_extension": ".py",
   "mimetype": "text/x-python",
   "name": "python",
   "nbconvert_exporter": "python",
   "pygments_lexer": "ipython3",
   "version": "3.7.12"
  },
  "papermill": {
   "default_parameters": {},
   "duration": 332.491725,
   "end_time": "2022-08-16T19:26:01.397458",
   "environment_variables": {},
   "exception": null,
   "input_path": "__notebook__.ipynb",
   "output_path": "__notebook__.ipynb",
   "parameters": {},
   "start_time": "2022-08-16T19:20:28.905733",
   "version": "2.3.4"
  }
 },
 "nbformat": 4,
 "nbformat_minor": 5
}
