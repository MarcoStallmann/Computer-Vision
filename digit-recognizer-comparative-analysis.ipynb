{
 "cells": [
  {
   "cell_type": "code",
   "execution_count": 1,
   "id": "c2a68a00",
   "metadata": {
    "execution": {
     "iopub.execute_input": "2022-08-16T19:02:53.398107Z",
     "iopub.status.busy": "2022-08-16T19:02:53.397043Z",
     "iopub.status.idle": "2022-08-16T19:02:59.250063Z",
     "shell.execute_reply": "2022-08-16T19:02:59.247609Z"
    },
    "papermill": {
     "duration": 5.870122,
     "end_time": "2022-08-16T19:02:59.252345",
     "exception": false,
     "start_time": "2022-08-16T19:02:53.382223",
     "status": "completed"
    },
    "tags": []
   },
   "outputs": [
    {
     "name": "stdout",
     "output_type": "stream",
     "text": [
      "['digit-recognizer']\n"
     ]
    }
   ],
   "source": [
    "# Import libraries\n",
    "import matplotlib.pyplot as plt\n",
    "import matplotlib.image as mpimg\n",
    "import numpy as np\n",
    "import pandas as pd\n",
    "import seaborn as sns\n",
    "import tensorflow as tf\n",
    "\n",
    "from sklearn.model_selection import train_test_split\n",
    "from sklearn.metrics import confusion_matrix\n",
    "import itertools\n",
    "\n",
    "from keras.utils.np_utils import to_categorical # convert to one-hot-encoding\n",
    "from keras.models import Sequential\n",
    "from keras.layers import Dense, Dropout, Flatten, Conv2D, MaxPool2D\n",
    "from keras.preprocessing.image import ImageDataGenerator\n",
    "from keras.callbacks import ReduceLROnPlateau\n",
    "\n",
    "sns.set(style='white', context='notebook', palette='deep')\n",
    "\n",
    "# import warnings\n",
    "import warnings\n",
    "# filter warnings\n",
    "warnings.filterwarnings('ignore')\n",
    "\n",
    "import os\n",
    "print(os.listdir(\"../input\"))"
   ]
  },
  {
   "cell_type": "markdown",
   "id": "39406a51",
   "metadata": {
    "papermill": {
     "duration": 0.005885,
     "end_time": "2022-08-16T19:02:59.264304",
     "exception": false,
     "start_time": "2022-08-16T19:02:59.258419",
     "status": "completed"
    },
    "tags": []
   },
   "source": [
    "Reference: \n",
    "1. [Convolutional Neural Network (CNN) Tutorial](https://www.kaggle.com/code/kanncaa1/convolutional-neural-network-cnn-tutorial) by DATAI\n",
    "2. [Introduction to CNN Keras - 0.997 (top 6%)](https://www.kaggle.com/code/yassineghouzam/introduction-to-cnn-keras-0-997-top-6)\n",
    "3. [Simple deep MLP with Keras](https://www.kaggle.com/code/fchollet/simple-deep-mlp-with-keras) by [fchollet](https://www.kaggle.com/fchollet)\n",
    "\n",
    "In a later version of this Notebook we will have to make use of transfer learning and [Data augmentation](https://www.kaggle.com/code/ryanholbrook/data-augmentation/tutorial).\n",
    "\n",
    "# Competition\n",
    "\n",
    "In the [Digit Recognizer](https://www.kaggle.com/competitions/digit-recognizer) competition, the goal is to correctly identify digits from a dataset of tens of thousands of handwritten images (MNIST). Kaggle has curated a set of tutorial-style kernels which cover everything from regression to neural networks and encourages to experiment with different algorithms.\n",
    "\n",
    "# Loading the Dataset"
   ]
  },
  {
   "cell_type": "code",
   "execution_count": 2,
   "id": "e86997cd",
   "metadata": {
    "execution": {
     "iopub.execute_input": "2022-08-16T19:02:59.277310Z",
     "iopub.status.busy": "2022-08-16T19:02:59.276622Z",
     "iopub.status.idle": "2022-08-16T19:03:02.159818Z",
     "shell.execute_reply": "2022-08-16T19:03:02.158865Z"
    },
    "papermill": {
     "duration": 2.892274,
     "end_time": "2022-08-16T19:03:02.162176",
     "exception": false,
     "start_time": "2022-08-16T19:02:59.269902",
     "status": "completed"
    },
    "tags": []
   },
   "outputs": [
    {
     "name": "stdout",
     "output_type": "stream",
     "text": [
      "(42000, 785)\n"
     ]
    },
    {
     "data": {
      "text/html": [
       "<div>\n",
       "<style scoped>\n",
       "    .dataframe tbody tr th:only-of-type {\n",
       "        vertical-align: middle;\n",
       "    }\n",
       "\n",
       "    .dataframe tbody tr th {\n",
       "        vertical-align: top;\n",
       "    }\n",
       "\n",
       "    .dataframe thead th {\n",
       "        text-align: right;\n",
       "    }\n",
       "</style>\n",
       "<table border=\"1\" class=\"dataframe\">\n",
       "  <thead>\n",
       "    <tr style=\"text-align: right;\">\n",
       "      <th></th>\n",
       "      <th>label</th>\n",
       "      <th>pixel0</th>\n",
       "      <th>pixel1</th>\n",
       "      <th>pixel2</th>\n",
       "      <th>pixel3</th>\n",
       "      <th>pixel4</th>\n",
       "      <th>pixel5</th>\n",
       "      <th>pixel6</th>\n",
       "      <th>pixel7</th>\n",
       "      <th>pixel8</th>\n",
       "      <th>...</th>\n",
       "      <th>pixel774</th>\n",
       "      <th>pixel775</th>\n",
       "      <th>pixel776</th>\n",
       "      <th>pixel777</th>\n",
       "      <th>pixel778</th>\n",
       "      <th>pixel779</th>\n",
       "      <th>pixel780</th>\n",
       "      <th>pixel781</th>\n",
       "      <th>pixel782</th>\n",
       "      <th>pixel783</th>\n",
       "    </tr>\n",
       "  </thead>\n",
       "  <tbody>\n",
       "    <tr>\n",
       "      <th>0</th>\n",
       "      <td>1</td>\n",
       "      <td>0</td>\n",
       "      <td>0</td>\n",
       "      <td>0</td>\n",
       "      <td>0</td>\n",
       "      <td>0</td>\n",
       "      <td>0</td>\n",
       "      <td>0</td>\n",
       "      <td>0</td>\n",
       "      <td>0</td>\n",
       "      <td>...</td>\n",
       "      <td>0</td>\n",
       "      <td>0</td>\n",
       "      <td>0</td>\n",
       "      <td>0</td>\n",
       "      <td>0</td>\n",
       "      <td>0</td>\n",
       "      <td>0</td>\n",
       "      <td>0</td>\n",
       "      <td>0</td>\n",
       "      <td>0</td>\n",
       "    </tr>\n",
       "    <tr>\n",
       "      <th>1</th>\n",
       "      <td>0</td>\n",
       "      <td>0</td>\n",
       "      <td>0</td>\n",
       "      <td>0</td>\n",
       "      <td>0</td>\n",
       "      <td>0</td>\n",
       "      <td>0</td>\n",
       "      <td>0</td>\n",
       "      <td>0</td>\n",
       "      <td>0</td>\n",
       "      <td>...</td>\n",
       "      <td>0</td>\n",
       "      <td>0</td>\n",
       "      <td>0</td>\n",
       "      <td>0</td>\n",
       "      <td>0</td>\n",
       "      <td>0</td>\n",
       "      <td>0</td>\n",
       "      <td>0</td>\n",
       "      <td>0</td>\n",
       "      <td>0</td>\n",
       "    </tr>\n",
       "    <tr>\n",
       "      <th>2</th>\n",
       "      <td>1</td>\n",
       "      <td>0</td>\n",
       "      <td>0</td>\n",
       "      <td>0</td>\n",
       "      <td>0</td>\n",
       "      <td>0</td>\n",
       "      <td>0</td>\n",
       "      <td>0</td>\n",
       "      <td>0</td>\n",
       "      <td>0</td>\n",
       "      <td>...</td>\n",
       "      <td>0</td>\n",
       "      <td>0</td>\n",
       "      <td>0</td>\n",
       "      <td>0</td>\n",
       "      <td>0</td>\n",
       "      <td>0</td>\n",
       "      <td>0</td>\n",
       "      <td>0</td>\n",
       "      <td>0</td>\n",
       "      <td>0</td>\n",
       "    </tr>\n",
       "    <tr>\n",
       "      <th>3</th>\n",
       "      <td>4</td>\n",
       "      <td>0</td>\n",
       "      <td>0</td>\n",
       "      <td>0</td>\n",
       "      <td>0</td>\n",
       "      <td>0</td>\n",
       "      <td>0</td>\n",
       "      <td>0</td>\n",
       "      <td>0</td>\n",
       "      <td>0</td>\n",
       "      <td>...</td>\n",
       "      <td>0</td>\n",
       "      <td>0</td>\n",
       "      <td>0</td>\n",
       "      <td>0</td>\n",
       "      <td>0</td>\n",
       "      <td>0</td>\n",
       "      <td>0</td>\n",
       "      <td>0</td>\n",
       "      <td>0</td>\n",
       "      <td>0</td>\n",
       "    </tr>\n",
       "    <tr>\n",
       "      <th>4</th>\n",
       "      <td>0</td>\n",
       "      <td>0</td>\n",
       "      <td>0</td>\n",
       "      <td>0</td>\n",
       "      <td>0</td>\n",
       "      <td>0</td>\n",
       "      <td>0</td>\n",
       "      <td>0</td>\n",
       "      <td>0</td>\n",
       "      <td>0</td>\n",
       "      <td>...</td>\n",
       "      <td>0</td>\n",
       "      <td>0</td>\n",
       "      <td>0</td>\n",
       "      <td>0</td>\n",
       "      <td>0</td>\n",
       "      <td>0</td>\n",
       "      <td>0</td>\n",
       "      <td>0</td>\n",
       "      <td>0</td>\n",
       "      <td>0</td>\n",
       "    </tr>\n",
       "  </tbody>\n",
       "</table>\n",
       "<p>5 rows × 785 columns</p>\n",
       "</div>"
      ],
      "text/plain": [
       "   label  pixel0  pixel1  pixel2  pixel3  pixel4  pixel5  pixel6  pixel7  \\\n",
       "0      1       0       0       0       0       0       0       0       0   \n",
       "1      0       0       0       0       0       0       0       0       0   \n",
       "2      1       0       0       0       0       0       0       0       0   \n",
       "3      4       0       0       0       0       0       0       0       0   \n",
       "4      0       0       0       0       0       0       0       0       0   \n",
       "\n",
       "   pixel8  ...  pixel774  pixel775  pixel776  pixel777  pixel778  pixel779  \\\n",
       "0       0  ...         0         0         0         0         0         0   \n",
       "1       0  ...         0         0         0         0         0         0   \n",
       "2       0  ...         0         0         0         0         0         0   \n",
       "3       0  ...         0         0         0         0         0         0   \n",
       "4       0  ...         0         0         0         0         0         0   \n",
       "\n",
       "   pixel780  pixel781  pixel782  pixel783  \n",
       "0         0         0         0         0  \n",
       "1         0         0         0         0  \n",
       "2         0         0         0         0  \n",
       "3         0         0         0         0  \n",
       "4         0         0         0         0  \n",
       "\n",
       "[5 rows x 785 columns]"
      ]
     },
     "execution_count": 2,
     "metadata": {},
     "output_type": "execute_result"
    }
   ],
   "source": [
    "# Read the training data from csv-file\n",
    "df_train = pd.read_csv(\"../input/digit-recognizer/train.csv\")\n",
    "print(df_train.shape)\n",
    "df_train.head()"
   ]
  },
  {
   "cell_type": "code",
   "execution_count": 3,
   "id": "7bf56302",
   "metadata": {
    "execution": {
     "iopub.execute_input": "2022-08-16T19:03:02.175983Z",
     "iopub.status.busy": "2022-08-16T19:03:02.175196Z",
     "iopub.status.idle": "2022-08-16T19:03:03.889215Z",
     "shell.execute_reply": "2022-08-16T19:03:03.888058Z"
    },
    "papermill": {
     "duration": 1.724975,
     "end_time": "2022-08-16T19:03:03.893343",
     "exception": false,
     "start_time": "2022-08-16T19:03:02.168368",
     "status": "completed"
    },
    "tags": []
   },
   "outputs": [
    {
     "name": "stdout",
     "output_type": "stream",
     "text": [
      "(28000, 784)\n"
     ]
    },
    {
     "data": {
      "text/html": [
       "<div>\n",
       "<style scoped>\n",
       "    .dataframe tbody tr th:only-of-type {\n",
       "        vertical-align: middle;\n",
       "    }\n",
       "\n",
       "    .dataframe tbody tr th {\n",
       "        vertical-align: top;\n",
       "    }\n",
       "\n",
       "    .dataframe thead th {\n",
       "        text-align: right;\n",
       "    }\n",
       "</style>\n",
       "<table border=\"1\" class=\"dataframe\">\n",
       "  <thead>\n",
       "    <tr style=\"text-align: right;\">\n",
       "      <th></th>\n",
       "      <th>pixel0</th>\n",
       "      <th>pixel1</th>\n",
       "      <th>pixel2</th>\n",
       "      <th>pixel3</th>\n",
       "      <th>pixel4</th>\n",
       "      <th>pixel5</th>\n",
       "      <th>pixel6</th>\n",
       "      <th>pixel7</th>\n",
       "      <th>pixel8</th>\n",
       "      <th>pixel9</th>\n",
       "      <th>...</th>\n",
       "      <th>pixel774</th>\n",
       "      <th>pixel775</th>\n",
       "      <th>pixel776</th>\n",
       "      <th>pixel777</th>\n",
       "      <th>pixel778</th>\n",
       "      <th>pixel779</th>\n",
       "      <th>pixel780</th>\n",
       "      <th>pixel781</th>\n",
       "      <th>pixel782</th>\n",
       "      <th>pixel783</th>\n",
       "    </tr>\n",
       "  </thead>\n",
       "  <tbody>\n",
       "    <tr>\n",
       "      <th>0</th>\n",
       "      <td>0</td>\n",
       "      <td>0</td>\n",
       "      <td>0</td>\n",
       "      <td>0</td>\n",
       "      <td>0</td>\n",
       "      <td>0</td>\n",
       "      <td>0</td>\n",
       "      <td>0</td>\n",
       "      <td>0</td>\n",
       "      <td>0</td>\n",
       "      <td>...</td>\n",
       "      <td>0</td>\n",
       "      <td>0</td>\n",
       "      <td>0</td>\n",
       "      <td>0</td>\n",
       "      <td>0</td>\n",
       "      <td>0</td>\n",
       "      <td>0</td>\n",
       "      <td>0</td>\n",
       "      <td>0</td>\n",
       "      <td>0</td>\n",
       "    </tr>\n",
       "    <tr>\n",
       "      <th>1</th>\n",
       "      <td>0</td>\n",
       "      <td>0</td>\n",
       "      <td>0</td>\n",
       "      <td>0</td>\n",
       "      <td>0</td>\n",
       "      <td>0</td>\n",
       "      <td>0</td>\n",
       "      <td>0</td>\n",
       "      <td>0</td>\n",
       "      <td>0</td>\n",
       "      <td>...</td>\n",
       "      <td>0</td>\n",
       "      <td>0</td>\n",
       "      <td>0</td>\n",
       "      <td>0</td>\n",
       "      <td>0</td>\n",
       "      <td>0</td>\n",
       "      <td>0</td>\n",
       "      <td>0</td>\n",
       "      <td>0</td>\n",
       "      <td>0</td>\n",
       "    </tr>\n",
       "    <tr>\n",
       "      <th>2</th>\n",
       "      <td>0</td>\n",
       "      <td>0</td>\n",
       "      <td>0</td>\n",
       "      <td>0</td>\n",
       "      <td>0</td>\n",
       "      <td>0</td>\n",
       "      <td>0</td>\n",
       "      <td>0</td>\n",
       "      <td>0</td>\n",
       "      <td>0</td>\n",
       "      <td>...</td>\n",
       "      <td>0</td>\n",
       "      <td>0</td>\n",
       "      <td>0</td>\n",
       "      <td>0</td>\n",
       "      <td>0</td>\n",
       "      <td>0</td>\n",
       "      <td>0</td>\n",
       "      <td>0</td>\n",
       "      <td>0</td>\n",
       "      <td>0</td>\n",
       "    </tr>\n",
       "    <tr>\n",
       "      <th>3</th>\n",
       "      <td>0</td>\n",
       "      <td>0</td>\n",
       "      <td>0</td>\n",
       "      <td>0</td>\n",
       "      <td>0</td>\n",
       "      <td>0</td>\n",
       "      <td>0</td>\n",
       "      <td>0</td>\n",
       "      <td>0</td>\n",
       "      <td>0</td>\n",
       "      <td>...</td>\n",
       "      <td>0</td>\n",
       "      <td>0</td>\n",
       "      <td>0</td>\n",
       "      <td>0</td>\n",
       "      <td>0</td>\n",
       "      <td>0</td>\n",
       "      <td>0</td>\n",
       "      <td>0</td>\n",
       "      <td>0</td>\n",
       "      <td>0</td>\n",
       "    </tr>\n",
       "    <tr>\n",
       "      <th>4</th>\n",
       "      <td>0</td>\n",
       "      <td>0</td>\n",
       "      <td>0</td>\n",
       "      <td>0</td>\n",
       "      <td>0</td>\n",
       "      <td>0</td>\n",
       "      <td>0</td>\n",
       "      <td>0</td>\n",
       "      <td>0</td>\n",
       "      <td>0</td>\n",
       "      <td>...</td>\n",
       "      <td>0</td>\n",
       "      <td>0</td>\n",
       "      <td>0</td>\n",
       "      <td>0</td>\n",
       "      <td>0</td>\n",
       "      <td>0</td>\n",
       "      <td>0</td>\n",
       "      <td>0</td>\n",
       "      <td>0</td>\n",
       "      <td>0</td>\n",
       "    </tr>\n",
       "  </tbody>\n",
       "</table>\n",
       "<p>5 rows × 784 columns</p>\n",
       "</div>"
      ],
      "text/plain": [
       "   pixel0  pixel1  pixel2  pixel3  pixel4  pixel5  pixel6  pixel7  pixel8  \\\n",
       "0       0       0       0       0       0       0       0       0       0   \n",
       "1       0       0       0       0       0       0       0       0       0   \n",
       "2       0       0       0       0       0       0       0       0       0   \n",
       "3       0       0       0       0       0       0       0       0       0   \n",
       "4       0       0       0       0       0       0       0       0       0   \n",
       "\n",
       "   pixel9  ...  pixel774  pixel775  pixel776  pixel777  pixel778  pixel779  \\\n",
       "0       0  ...         0         0         0         0         0         0   \n",
       "1       0  ...         0         0         0         0         0         0   \n",
       "2       0  ...         0         0         0         0         0         0   \n",
       "3       0  ...         0         0         0         0         0         0   \n",
       "4       0  ...         0         0         0         0         0         0   \n",
       "\n",
       "   pixel780  pixel781  pixel782  pixel783  \n",
       "0         0         0         0         0  \n",
       "1         0         0         0         0  \n",
       "2         0         0         0         0  \n",
       "3         0         0         0         0  \n",
       "4         0         0         0         0  \n",
       "\n",
       "[5 rows x 784 columns]"
      ]
     },
     "execution_count": 3,
     "metadata": {},
     "output_type": "execute_result"
    }
   ],
   "source": [
    "# Read the test data from csv-file\n",
    "df_test = pd.read_csv(\"../input/digit-recognizer/test.csv\")\n",
    "print(df_test.shape)\n",
    "df_test.head()"
   ]
  },
  {
   "cell_type": "code",
   "execution_count": 4,
   "id": "9959374b",
   "metadata": {
    "execution": {
     "iopub.execute_input": "2022-08-16T19:03:03.908282Z",
     "iopub.status.busy": "2022-08-16T19:03:03.907467Z",
     "iopub.status.idle": "2022-08-16T19:03:03.995231Z",
     "shell.execute_reply": "2022-08-16T19:03:03.994100Z"
    },
    "papermill": {
     "duration": 0.097132,
     "end_time": "2022-08-16T19:03:03.997444",
     "exception": false,
     "start_time": "2022-08-16T19:03:03.900312",
     "status": "completed"
    },
    "tags": []
   },
   "outputs": [],
   "source": [
    "# Save the labels in the training data to a variable\n",
    "Y_train = df_train[\"label\"]\n",
    "\n",
    "# Then drop the 'label' column from the training dataset\n",
    "X_train = df_train.drop(labels = [\"label\"],axis = 1) "
   ]
  },
  {
   "cell_type": "code",
   "execution_count": 5,
   "id": "6aad11c6",
   "metadata": {
    "execution": {
     "iopub.execute_input": "2022-08-16T19:03:04.011541Z",
     "iopub.status.busy": "2022-08-16T19:03:04.011238Z",
     "iopub.status.idle": "2022-08-16T19:03:04.284771Z",
     "shell.execute_reply": "2022-08-16T19:03:04.283849Z"
    },
    "papermill": {
     "duration": 0.282848,
     "end_time": "2022-08-16T19:03:04.286869",
     "exception": false,
     "start_time": "2022-08-16T19:03:04.004021",
     "status": "completed"
    },
    "tags": []
   },
   "outputs": [
    {
     "data": {
      "text/plain": [
       "1    4684\n",
       "7    4401\n",
       "3    4351\n",
       "9    4188\n",
       "2    4177\n",
       "6    4137\n",
       "0    4132\n",
       "4    4072\n",
       "8    4063\n",
       "5    3795\n",
       "Name: label, dtype: int64"
      ]
     },
     "execution_count": 5,
     "metadata": {},
     "output_type": "execute_result"
    },
    {
     "data": {
      "image/png": "[encoded data removed]",
      "text/plain": [
       "<Figure size 1080x504 with 1 Axes>"
      ]
     },
     "metadata": {},
     "output_type": "display_data"
    }
   ],
   "source": [
    "# Count and visualize the number of digits classes\n",
    "plt.figure(figsize=(15,7))\n",
    "g = sns.countplot(Y_train, palette=\"icefire\")\n",
    "plt.title(\"Number of digit classes\")\n",
    "Y_train.value_counts()"
   ]
  },
  {
   "cell_type": "markdown",
   "id": "c55d490e",
   "metadata": {
    "papermill": {
     "duration": 0.006998,
     "end_time": "2022-08-16T19:03:04.300652",
     "exception": false,
     "start_time": "2022-08-16T19:03:04.293654",
     "status": "completed"
    },
    "tags": []
   },
   "source": [
    "The counts for the digits are very similar."
   ]
  },
  {
   "cell_type": "code",
   "execution_count": 6,
   "id": "c4ccbe67",
   "metadata": {
    "execution": {
     "iopub.execute_input": "2022-08-16T19:03:04.316662Z",
     "iopub.status.busy": "2022-08-16T19:03:04.315878Z",
     "iopub.status.idle": "2022-08-16T19:03:04.333752Z",
     "shell.execute_reply": "2022-08-16T19:03:04.332716Z"
    },
    "papermill": {
     "duration": 0.027599,
     "end_time": "2022-08-16T19:03:04.335828",
     "exception": false,
     "start_time": "2022-08-16T19:03:04.308229",
     "status": "completed"
    },
    "tags": []
   },
   "outputs": [
    {
     "data": {
      "text/plain": [
       "count       784\n",
       "unique        1\n",
       "top       False\n",
       "freq        784\n",
       "dtype: object"
      ]
     },
     "execution_count": 6,
     "metadata": {},
     "output_type": "execute_result"
    }
   ],
   "source": [
    "# Check training data for null values\n",
    "X_train.isnull().any().describe()"
   ]
  },
  {
   "cell_type": "code",
   "execution_count": 7,
   "id": "85b8de8e",
   "metadata": {
    "execution": {
     "iopub.execute_input": "2022-08-16T19:03:04.350366Z",
     "iopub.status.busy": "2022-08-16T19:03:04.350083Z",
     "iopub.status.idle": "2022-08-16T19:03:04.365198Z",
     "shell.execute_reply": "2022-08-16T19:03:04.364162Z"
    },
    "papermill": {
     "duration": 0.024818,
     "end_time": "2022-08-16T19:03:04.367373",
     "exception": false,
     "start_time": "2022-08-16T19:03:04.342555",
     "status": "completed"
    },
    "tags": []
   },
   "outputs": [
    {
     "data": {
      "text/plain": [
       "count       784\n",
       "unique        1\n",
       "top       False\n",
       "freq        784\n",
       "dtype: object"
      ]
     },
     "execution_count": 7,
     "metadata": {},
     "output_type": "execute_result"
    }
   ],
   "source": [
    "# Check test data for null values\n",
    "df_test.isnull().any().describe()"
   ]
  },
  {
   "cell_type": "code",
   "execution_count": 8,
   "id": "fa2cdba2",
   "metadata": {
    "execution": {
     "iopub.execute_input": "2022-08-16T19:03:04.381950Z",
     "iopub.status.busy": "2022-08-16T19:03:04.381659Z",
     "iopub.status.idle": "2022-08-16T19:03:04.527536Z",
     "shell.execute_reply": "2022-08-16T19:03:04.526383Z"
    },
    "papermill": {
     "duration": 0.155677,
     "end_time": "2022-08-16T19:03:04.529781",
     "exception": false,
     "start_time": "2022-08-16T19:03:04.374104",
     "status": "completed"
    },
    "tags": []
   },
   "outputs": [
    {
     "data": {
      "image/png": "[encoded data removed]",
      "text/plain": [
       "<Figure size 432x288 with 1 Axes>"
      ]
     },
     "metadata": {},
     "output_type": "display_data"
    }
   ],
   "source": [
    "# Plot an example of the reshaped images\n",
    "img = X_train.iloc[72].values\n",
    "img = img.reshape((28,28))\n",
    "plt.imshow(img,cmap='gray')\n",
    "plt.title(X_train.iloc[0,0])\n",
    "plt.axis(\"off\")\n",
    "plt.show()"
   ]
  },
  {
   "cell_type": "code",
   "execution_count": 9,
   "id": "adbf7e5a",
   "metadata": {
    "execution": {
     "iopub.execute_input": "2022-08-16T19:03:04.548935Z",
     "iopub.status.busy": "2022-08-16T19:03:04.548633Z",
     "iopub.status.idle": "2022-08-16T19:03:04.690612Z",
     "shell.execute_reply": "2022-08-16T19:03:04.689514Z"
    },
    "papermill": {
     "duration": 0.153307,
     "end_time": "2022-08-16T19:03:04.693731",
     "exception": false,
     "start_time": "2022-08-16T19:03:04.540424",
     "status": "completed"
    },
    "tags": []
   },
   "outputs": [
    {
     "data": {
      "image/png": "[encoded data removed]",
      "text/plain": [
       "<Figure size 432x288 with 1 Axes>"
      ]
     },
     "metadata": {},
     "output_type": "display_data"
    }
   ],
   "source": [
    "# Plot another example of the reshaped images\n",
    "img = X_train.iloc[73].values\n",
    "img = img.reshape((28,28))\n",
    "plt.imshow(img,cmap='gray')\n",
    "plt.title(X_train.iloc[3,0])\n",
    "plt.axis(\"off\")\n",
    "plt.show()"
   ]
  },
  {
   "cell_type": "markdown",
   "id": "f915a55d",
   "metadata": {
    "papermill": {
     "duration": 0.006717,
     "end_time": "2022-08-16T19:03:04.712486",
     "exception": false,
     "start_time": "2022-08-16T19:03:04.705769",
     "status": "completed"
    },
    "tags": []
   },
   "source": [
    "# Normalization, Reshape and Label Encoding"
   ]
  },
  {
   "cell_type": "code",
   "execution_count": 10,
   "id": "deb21c10",
   "metadata": {
    "execution": {
     "iopub.execute_input": "2022-08-16T19:03:04.727579Z",
     "iopub.status.busy": "2022-08-16T19:03:04.727307Z",
     "iopub.status.idle": "2022-08-16T19:03:04.892126Z",
     "shell.execute_reply": "2022-08-16T19:03:04.890555Z"
    },
    "papermill": {
     "duration": 0.17546,
     "end_time": "2022-08-16T19:03:04.894972",
     "exception": false,
     "start_time": "2022-08-16T19:03:04.719512",
     "status": "completed"
    },
    "tags": []
   },
   "outputs": [
    {
     "name": "stdout",
     "output_type": "stream",
     "text": [
      "X_train shape:  (42000, 784)\n",
      "X_test shape:  (28000, 784)\n"
     ]
    }
   ],
   "source": [
    "# Normalize the data, because CNNs work better with normalized data\n",
    "X_train = X_train / 255.0\n",
    "X_test = df_test / 255.0\n",
    "print(\"X_train shape: \",X_train.shape)\n",
    "print(\"X_test shape: \",X_test.shape)"
   ]
  },
  {
   "cell_type": "code",
   "execution_count": 11,
   "id": "26d96319",
   "metadata": {
    "execution": {
     "iopub.execute_input": "2022-08-16T19:03:04.911324Z",
     "iopub.status.busy": "2022-08-16T19:03:04.911012Z",
     "iopub.status.idle": "2022-08-16T19:03:04.917339Z",
     "shell.execute_reply": "2022-08-16T19:03:04.916404Z"
    },
    "papermill": {
     "duration": 0.016869,
     "end_time": "2022-08-16T19:03:04.919456",
     "exception": false,
     "start_time": "2022-08-16T19:03:04.902587",
     "status": "completed"
    },
    "tags": []
   },
   "outputs": [
    {
     "name": "stdout",
     "output_type": "stream",
     "text": [
      "X_train shape:  (42000, 28, 28, 1)\n",
      "X_test shape:  (28000, 28, 28, 1)\n"
     ]
    }
   ],
   "source": [
    "# Reshape all data to 28x28x1 3D matrices\n",
    "X_train = X_train.values.reshape(-1,28,28,1) # Keras needs an extra dimension in the end (channels)\n",
    "X_test = df_test.values.reshape(-1,28,28,1)\n",
    "print(\"X_train shape: \",X_train.shape)\n",
    "print(\"X_test shape: \",X_test.shape)"
   ]
  },
  {
   "cell_type": "code",
   "execution_count": 12,
   "id": "6f70f666",
   "metadata": {
    "execution": {
     "iopub.execute_input": "2022-08-16T19:03:04.934726Z",
     "iopub.status.busy": "2022-08-16T19:03:04.934461Z",
     "iopub.status.idle": "2022-08-16T19:03:04.942108Z",
     "shell.execute_reply": "2022-08-16T19:03:04.940405Z"
    },
    "papermill": {
     "duration": 0.017438,
     "end_time": "2022-08-16T19:03:04.944173",
     "exception": false,
     "start_time": "2022-08-16T19:03:04.926735",
     "status": "completed"
    },
    "tags": []
   },
   "outputs": [
    {
     "name": "stdout",
     "output_type": "stream",
     "text": [
      "[[0. 1. 0. ... 0. 0. 0.]\n",
      " [1. 0. 0. ... 0. 0. 0.]\n",
      " [0. 1. 0. ... 0. 0. 0.]\n",
      " ...\n",
      " [0. 0. 0. ... 1. 0. 0.]\n",
      " [0. 0. 0. ... 0. 0. 0.]\n",
      " [0. 0. 0. ... 0. 0. 1.]]\n"
     ]
    }
   ],
   "source": [
    "# Label Encoding \n",
    "from keras.utils.np_utils import to_categorical \n",
    "Y_train = to_categorical(Y_train, num_classes = 10)\n",
    "print(Y_train)"
   ]
  },
  {
   "cell_type": "markdown",
   "id": "6777bbfd",
   "metadata": {
    "papermill": {
     "duration": 0.006869,
     "end_time": "2022-08-16T19:03:04.960980",
     "exception": false,
     "start_time": "2022-08-16T19:03:04.954111",
     "status": "completed"
    },
    "tags": []
   },
   "source": [
    "# Train Test Split"
   ]
  },
  {
   "cell_type": "code",
   "execution_count": 13,
   "id": "21d0f5cb",
   "metadata": {
    "execution": {
     "iopub.execute_input": "2022-08-16T19:03:04.976062Z",
     "iopub.status.busy": "2022-08-16T19:03:04.975778Z",
     "iopub.status.idle": "2022-08-16T19:03:05.349869Z",
     "shell.execute_reply": "2022-08-16T19:03:05.348702Z"
    },
    "papermill": {
     "duration": 0.385374,
     "end_time": "2022-08-16T19:03:05.353279",
     "exception": false,
     "start_time": "2022-08-16T19:03:04.967905",
     "status": "completed"
    },
    "tags": []
   },
   "outputs": [
    {
     "name": "stdout",
     "output_type": "stream",
     "text": [
      "x_train shape (37800, 28, 28, 1)\n",
      "X_val shape (4200, 28, 28, 1)\n",
      "y_train shape (37800, 10)\n",
      "y_val shape (4200, 10)\n"
     ]
    }
   ],
   "source": [
    "# Split the train and the validation set for the fitting\n",
    "from sklearn.model_selection import train_test_split\n",
    "X_train, X_val, Y_train, Y_val = train_test_split(X_train, Y_train, test_size = 0.1, random_state=2)\n",
    "print(\"x_train shape\",X_train.shape)\n",
    "print(\"X_val shape\",X_val.shape)\n",
    "print(\"y_train shape\",Y_train.shape)\n",
    "print(\"y_val shape\",Y_val.shape)"
   ]
  },
  {
   "cell_type": "code",
   "execution_count": 14,
   "id": "73169c8b",
   "metadata": {
    "execution": {
     "iopub.execute_input": "2022-08-16T19:03:05.370474Z",
     "iopub.status.busy": "2022-08-16T19:03:05.370168Z",
     "iopub.status.idle": "2022-08-16T19:03:05.581496Z",
     "shell.execute_reply": "2022-08-16T19:03:05.580579Z"
    },
    "papermill": {
     "duration": 0.22197,
     "end_time": "2022-08-16T19:03:05.583669",
     "exception": false,
     "start_time": "2022-08-16T19:03:05.361699",
     "status": "completed"
    },
    "tags": []
   },
   "outputs": [
    {
     "data": {
      "image/png": "[encoded data removed]",
      "text/plain": [
       "<Figure size 432x288 with 1 Axes>"
      ]
     },
     "metadata": {},
     "output_type": "display_data"
    }
   ],
   "source": [
    "# Some examples\n",
    "plt.imshow(X_train[21][:,:,0],cmap='gray')\n",
    "plt.show()"
   ]
  },
  {
   "cell_type": "markdown",
   "id": "c2a867ae",
   "metadata": {
    "papermill": {
     "duration": 0.00781,
     "end_time": "2022-08-16T19:03:05.599127",
     "exception": false,
     "start_time": "2022-08-16T19:03:05.591317",
     "status": "completed"
    },
    "tags": []
   },
   "source": [
    "# Convolutional Neural Network\n",
    "\n",
    "Running convolutions and pooling for feature detection."
   ]
  },
  {
   "cell_type": "code",
   "execution_count": 15,
   "id": "8538ca9b",
   "metadata": {
    "execution": {
     "iopub.execute_input": "2022-08-16T19:03:05.615571Z",
     "iopub.status.busy": "2022-08-16T19:03:05.615215Z",
     "iopub.status.idle": "2022-08-16T19:03:08.434489Z",
     "shell.execute_reply": "2022-08-16T19:03:08.433555Z"
    },
    "papermill": {
     "duration": 2.831049,
     "end_time": "2022-08-16T19:03:08.437709",
     "exception": false,
     "start_time": "2022-08-16T19:03:05.606660",
     "status": "completed"
    },
    "tags": []
   },
   "outputs": [
    {
     "name": "stderr",
     "output_type": "stream",
     "text": [
      "2022-08-16 19:03:05.709394: I tensorflow/stream_executor/cuda/cuda_gpu_executor.cc:937] successful NUMA node read from SysFS had negative value (-1), but there must be at least one NUMA node, so returning NUMA node zero\n",
      "2022-08-16 19:03:05.823354: I tensorflow/stream_executor/cuda/cuda_gpu_executor.cc:937] successful NUMA node read from SysFS had negative value (-1), but there must be at least one NUMA node, so returning NUMA node zero\n",
      "2022-08-16 19:03:05.824212: I tensorflow/stream_executor/cuda/cuda_gpu_executor.cc:937] successful NUMA node read from SysFS had negative value (-1), but there must be at least one NUMA node, so returning NUMA node zero\n",
      "2022-08-16 19:03:05.825888: I tensorflow/core/platform/cpu_feature_guard.cc:142] This TensorFlow binary is optimized with oneAPI Deep Neural Network Library (oneDNN) to use the following CPU instructions in performance-critical operations:  AVX2 AVX512F FMA\n",
      "To enable them in other operations, rebuild TensorFlow with the appropriate compiler flags.\n",
      "2022-08-16 19:03:05.826243: I tensorflow/stream_executor/cuda/cuda_gpu_executor.cc:937] successful NUMA node read from SysFS had negative value (-1), but there must be at least one NUMA node, so returning NUMA node zero\n",
      "2022-08-16 19:03:05.827420: I tensorflow/stream_executor/cuda/cuda_gpu_executor.cc:937] successful NUMA node read from SysFS had negative value (-1), but there must be at least one NUMA node, so returning NUMA node zero\n",
      "2022-08-16 19:03:05.828451: I tensorflow/stream_executor/cuda/cuda_gpu_executor.cc:937] successful NUMA node read from SysFS had negative value (-1), but there must be at least one NUMA node, so returning NUMA node zero\n",
      "2022-08-16 19:03:07.986033: I tensorflow/stream_executor/cuda/cuda_gpu_executor.cc:937] successful NUMA node read from SysFS had negative value (-1), but there must be at least one NUMA node, so returning NUMA node zero\n",
      "2022-08-16 19:03:07.986989: I tensorflow/stream_executor/cuda/cuda_gpu_executor.cc:937] successful NUMA node read from SysFS had negative value (-1), but there must be at least one NUMA node, so returning NUMA node zero\n",
      "2022-08-16 19:03:07.987695: I tensorflow/stream_executor/cuda/cuda_gpu_executor.cc:937] successful NUMA node read from SysFS had negative value (-1), but there must be at least one NUMA node, so returning NUMA node zero\n",
      "2022-08-16 19:03:07.988299: I tensorflow/core/common_runtime/gpu/gpu_device.cc:1510] Created device /job:localhost/replica:0/task:0/device:GPU:0 with 15403 MB memory:  -> device: 0, name: Tesla P100-PCIE-16GB, pci bus id: 0000:00:04.0, compute capability: 6.0\n"
     ]
    }
   ],
   "source": [
    "from sklearn.metrics import confusion_matrix\n",
    "import itertools\n",
    "\n",
    "from keras.models import Sequential\n",
    "from keras.layers import Dense, Dropout, Flatten, Conv2D, MaxPool2D\n",
    "from keras.preprocessing.image import ImageDataGenerator\n",
    "from keras.callbacks import ReduceLROnPlateau\n",
    "\n",
    "model = Sequential()\n",
    "\n",
    "model.add(Conv2D(filters = 32, kernel_size = (5,5),padding = 'Same', \n",
    "                 activation ='relu', input_shape = (28,28,1)))\n",
    "model.add(Conv2D(filters = 32, kernel_size = (5,5),padding = 'Same', \n",
    "                 activation ='relu'))\n",
    "model.add(MaxPool2D(pool_size=(2,2)))\n",
    "model.add(Dropout(0.25))\n",
    "\n",
    "\n",
    "model.add(Conv2D(filters = 64, kernel_size = (3,3),padding = 'Same', \n",
    "                 activation ='relu'))\n",
    "model.add(Conv2D(filters = 64, kernel_size = (3,3),padding = 'Same', \n",
    "                 activation ='relu'))\n",
    "model.add(MaxPool2D(pool_size=(2,2), strides=(2,2)))\n",
    "model.add(Dropout(0.25))\n",
    "\n",
    "\n",
    "model.add(Flatten())\n",
    "model.add(Dense(256, activation = \"relu\"))\n",
    "model.add(Dropout(0.5))\n",
    "model.add(Dense(10, activation = \"softmax\"))"
   ]
  },
  {
   "cell_type": "code",
   "execution_count": 16,
   "id": "ee92e1da",
   "metadata": {
    "execution": {
     "iopub.execute_input": "2022-08-16T19:03:08.454976Z",
     "iopub.status.busy": "2022-08-16T19:03:08.454686Z",
     "iopub.status.idle": "2022-08-16T19:03:08.820184Z",
     "shell.execute_reply": "2022-08-16T19:03:08.819171Z"
    },
    "papermill": {
     "duration": 0.376475,
     "end_time": "2022-08-16T19:03:08.822717",
     "exception": false,
     "start_time": "2022-08-16T19:03:08.446242",
     "status": "completed"
    },
    "tags": []
   },
   "outputs": [],
   "source": [
    "# Compile the model\n",
    "model.compile(\n",
    "    optimizer = tf.keras.optimizers.RMSprop(lr=0.001, rho=0.9, epsilon=1e-08, decay=0.0), \n",
    "    loss = \"categorical_crossentropy\",\n",
    "    metrics=[\"accuracy\"]\n",
    ")"
   ]
  },
  {
   "cell_type": "code",
   "execution_count": 17,
   "id": "cbff9572",
   "metadata": {
    "execution": {
     "iopub.execute_input": "2022-08-16T19:03:08.839898Z",
     "iopub.status.busy": "2022-08-16T19:03:08.839571Z",
     "iopub.status.idle": "2022-08-16T19:03:08.843868Z",
     "shell.execute_reply": "2022-08-16T19:03:08.842865Z"
    },
    "papermill": {
     "duration": 0.01531,
     "end_time": "2022-08-16T19:03:08.846284",
     "exception": false,
     "start_time": "2022-08-16T19:03:08.830974",
     "status": "completed"
    },
    "tags": []
   },
   "outputs": [],
   "source": [
    "epochs = 30 # Turn up to get more accuracy\n",
    "batch_size = 86"
   ]
  },
  {
   "cell_type": "markdown",
   "id": "f83fedc5",
   "metadata": {
    "papermill": {
     "duration": 0.007183,
     "end_time": "2022-08-16T19:03:08.861132",
     "exception": false,
     "start_time": "2022-08-16T19:03:08.853949",
     "status": "completed"
    },
    "tags": []
   },
   "source": [
    "# Data Augmentation\n",
    "\n",
    "... to avoid or at least reduce overfitting."
   ]
  },
  {
   "cell_type": "code",
   "execution_count": 18,
   "id": "3a5cb018",
   "metadata": {
    "execution": {
     "iopub.execute_input": "2022-08-16T19:03:08.877367Z",
     "iopub.status.busy": "2022-08-16T19:03:08.877096Z",
     "iopub.status.idle": "2022-08-16T19:03:08.972670Z",
     "shell.execute_reply": "2022-08-16T19:03:08.971665Z"
    },
    "papermill": {
     "duration": 0.106331,
     "end_time": "2022-08-16T19:03:08.975010",
     "exception": false,
     "start_time": "2022-08-16T19:03:08.868679",
     "status": "completed"
    },
    "tags": []
   },
   "outputs": [],
   "source": [
    "# Data augmentation\n",
    "datagen = ImageDataGenerator(\n",
    "        featurewise_center=False,  # set input mean to 0 over the dataset\n",
    "        samplewise_center=False,  # set each sample mean to 0\n",
    "        featurewise_std_normalization=False,  # divide inputs by std of the dataset\n",
    "        samplewise_std_normalization=False,  # divide each input by its std\n",
    "        zca_whitening=False,  # dimesion reduction\n",
    "        rotation_range=10,  # randomly rotate images in the range 10 degrees\n",
    "        zoom_range = 0.1, # Randomly zoom image 10%\n",
    "        width_shift_range=0.1,  # randomly shift images horizontally 10%\n",
    "        height_shift_range=0.1,  # randomly shift images vertically 10%\n",
    "        horizontal_flip=False,  # randomly flip images\n",
    "        vertical_flip=False)  # randomly flip images\n",
    "\n",
    "datagen.fit(X_train)"
   ]
  },
  {
   "cell_type": "markdown",
   "id": "aafef5e0",
   "metadata": {
    "papermill": {
     "duration": 0.007645,
     "end_time": "2022-08-16T19:03:08.994658",
     "exception": false,
     "start_time": "2022-08-16T19:03:08.987013",
     "status": "completed"
    },
    "tags": []
   },
   "source": [
    "# Train and evaluate the CNN"
   ]
  },
  {
   "cell_type": "code",
   "execution_count": 19,
   "id": "79541025",
   "metadata": {
    "execution": {
     "iopub.execute_input": "2022-08-16T19:03:09.010993Z",
     "iopub.status.busy": "2022-08-16T19:03:09.010676Z",
     "iopub.status.idle": "2022-08-16T19:03:09.015378Z",
     "shell.execute_reply": "2022-08-16T19:03:09.014400Z"
    },
    "papermill": {
     "duration": 0.014877,
     "end_time": "2022-08-16T19:03:09.017321",
     "exception": false,
     "start_time": "2022-08-16T19:03:09.002444",
     "status": "completed"
    },
    "tags": []
   },
   "outputs": [],
   "source": [
    "# Set a learning rate annealer\n",
    "learning_rate_reduction = ReduceLROnPlateau(monitor='val_acc', \n",
    "                                            patience=3, \n",
    "                                            verbose=1, \n",
    "                                            factor=0.5, \n",
    "                                            min_lr=0.00001)"
   ]
  },
  {
   "cell_type": "code",
   "execution_count": 20,
   "id": "d88ede3a",
   "metadata": {
    "execution": {
     "iopub.execute_input": "2022-08-16T19:03:09.033115Z",
     "iopub.status.busy": "2022-08-16T19:03:09.032841Z",
     "iopub.status.idle": "2022-08-16T19:08:21.196115Z",
     "shell.execute_reply": "2022-08-16T19:08:21.195093Z"
    },
    "papermill": {
     "duration": 312.173865,
     "end_time": "2022-08-16T19:08:21.198505",
     "exception": false,
     "start_time": "2022-08-16T19:03:09.024640",
     "status": "completed"
    },
    "tags": []
   },
   "outputs": [
    {
     "name": "stderr",
     "output_type": "stream",
     "text": [
      "2022-08-16 19:03:09.170452: I tensorflow/compiler/mlir/mlir_graph_optimization_pass.cc:185] None of the MLIR Optimization Passes are enabled (registered 2)\n"
     ]
    },
    {
     "name": "stdout",
     "output_type": "stream",
     "text": [
      "Epoch 1/30\n"
     ]
    },
    {
     "name": "stderr",
     "output_type": "stream",
     "text": [
      "2022-08-16 19:03:10.835658: I tensorflow/stream_executor/cuda/cuda_dnn.cc:369] Loaded cuDNN version 8005\n"
     ]
    },
    {
     "name": "stdout",
     "output_type": "stream",
     "text": [
      "439/439 - 17s - loss: 0.4047 - accuracy: 0.8705 - val_loss: 0.0699 - val_accuracy: 0.9798\n",
      "Epoch 2/30\n",
      "439/439 - 9s - loss: 0.1273 - accuracy: 0.9623 - val_loss: 0.0432 - val_accuracy: 0.9871\n",
      "Epoch 3/30\n",
      "439/439 - 10s - loss: 0.0931 - accuracy: 0.9723 - val_loss: 0.0299 - val_accuracy: 0.9917\n",
      "Epoch 4/30\n",
      "439/439 - 9s - loss: 0.0786 - accuracy: 0.9773 - val_loss: 0.0397 - val_accuracy: 0.9881\n",
      "Epoch 5/30\n",
      "439/439 - 9s - loss: 0.0715 - accuracy: 0.9790 - val_loss: 0.0310 - val_accuracy: 0.9912\n",
      "Epoch 6/30\n",
      "439/439 - 9s - loss: 0.0654 - accuracy: 0.9806 - val_loss: 0.0312 - val_accuracy: 0.9898\n",
      "Epoch 7/30\n",
      "439/439 - 9s - loss: 0.0649 - accuracy: 0.9814 - val_loss: 0.0239 - val_accuracy: 0.9924\n",
      "Epoch 8/30\n",
      "439/439 - 9s - loss: 0.0626 - accuracy: 0.9823 - val_loss: 0.0349 - val_accuracy: 0.9895\n",
      "Epoch 9/30\n",
      "439/439 - 9s - loss: 0.0594 - accuracy: 0.9827 - val_loss: 0.0265 - val_accuracy: 0.9938\n",
      "Epoch 10/30\n",
      "439/439 - 10s - loss: 0.0635 - accuracy: 0.9833 - val_loss: 0.0252 - val_accuracy: 0.9936\n",
      "Epoch 11/30\n",
      "439/439 - 9s - loss: 0.0604 - accuracy: 0.9835 - val_loss: 0.0244 - val_accuracy: 0.9929\n",
      "Epoch 12/30\n",
      "439/439 - 9s - loss: 0.0600 - accuracy: 0.9839 - val_loss: 0.0268 - val_accuracy: 0.9931\n",
      "Epoch 13/30\n",
      "439/439 - 10s - loss: 0.0606 - accuracy: 0.9838 - val_loss: 0.0306 - val_accuracy: 0.9924\n",
      "Epoch 14/30\n",
      "439/439 - 9s - loss: 0.0634 - accuracy: 0.9830 - val_loss: 0.0242 - val_accuracy: 0.9936\n",
      "Epoch 15/30\n",
      "439/439 - 9s - loss: 0.0637 - accuracy: 0.9834 - val_loss: 0.0348 - val_accuracy: 0.9910\n",
      "Epoch 16/30\n",
      "439/439 - 9s - loss: 0.0671 - accuracy: 0.9827 - val_loss: 0.0275 - val_accuracy: 0.9938\n",
      "Epoch 17/30\n",
      "439/439 - 9s - loss: 0.0629 - accuracy: 0.9835 - val_loss: 0.0280 - val_accuracy: 0.9919\n",
      "Epoch 18/30\n",
      "439/439 - 9s - loss: 0.0650 - accuracy: 0.9832 - val_loss: 0.0306 - val_accuracy: 0.9926\n",
      "Epoch 19/30\n",
      "439/439 - 9s - loss: 0.0648 - accuracy: 0.9833 - val_loss: 0.0270 - val_accuracy: 0.9921\n",
      "Epoch 20/30\n",
      "439/439 - 10s - loss: 0.0662 - accuracy: 0.9823 - val_loss: 0.0261 - val_accuracy: 0.9931\n",
      "Epoch 21/30\n",
      "439/439 - 9s - loss: 0.0743 - accuracy: 0.9819 - val_loss: 0.0272 - val_accuracy: 0.9948\n",
      "Epoch 22/30\n",
      "439/439 - 9s - loss: 0.0732 - accuracy: 0.9823 - val_loss: 0.0326 - val_accuracy: 0.9940\n",
      "Epoch 23/30\n",
      "439/439 - 9s - loss: 0.0652 - accuracy: 0.9830 - val_loss: 0.0544 - val_accuracy: 0.9869\n",
      "Epoch 24/30\n",
      "439/439 - 9s - loss: 0.0665 - accuracy: 0.9824 - val_loss: 0.0322 - val_accuracy: 0.9931\n",
      "Epoch 25/30\n",
      "439/439 - 9s - loss: 0.0783 - accuracy: 0.9810 - val_loss: 0.0304 - val_accuracy: 0.9921\n",
      "Epoch 26/30\n",
      "439/439 - 9s - loss: 0.0723 - accuracy: 0.9815 - val_loss: 0.0451 - val_accuracy: 0.9907\n",
      "Epoch 27/30\n",
      "439/439 - 9s - loss: 0.0772 - accuracy: 0.9820 - val_loss: 0.0338 - val_accuracy: 0.9933\n",
      "Epoch 28/30\n",
      "439/439 - 9s - loss: 0.0767 - accuracy: 0.9815 - val_loss: 0.0335 - val_accuracy: 0.9938\n",
      "Epoch 29/30\n",
      "439/439 - 9s - loss: 0.0781 - accuracy: 0.9809 - val_loss: 0.0436 - val_accuracy: 0.9895\n",
      "Epoch 30/30\n",
      "439/439 - 9s - loss: 0.0825 - accuracy: 0.9808 - val_loss: 0.0276 - val_accuracy: 0.9940\n"
     ]
    }
   ],
   "source": [
    "# Fit the model\n",
    "history = model.fit_generator(datagen.flow(X_train,Y_train, batch_size=batch_size),\n",
    "                              epochs = epochs, validation_data = (X_val,Y_val),\n",
    "                              verbose = 2, steps_per_epoch=X_train.shape[0] // batch_size\n",
    "                              , callbacks=[learning_rate_reduction])"
   ]
  },
  {
   "cell_type": "code",
   "execution_count": 21,
   "id": "6de99784",
   "metadata": {
    "execution": {
     "iopub.execute_input": "2022-08-16T19:08:21.221561Z",
     "iopub.status.busy": "2022-08-16T19:08:21.220713Z",
     "iopub.status.idle": "2022-08-16T19:08:21.448668Z",
     "shell.execute_reply": "2022-08-16T19:08:21.447753Z"
    },
    "papermill": {
     "duration": 0.241546,
     "end_time": "2022-08-16T19:08:21.451002",
     "exception": false,
     "start_time": "2022-08-16T19:08:21.209456",
     "status": "completed"
    },
    "tags": []
   },
   "outputs": [
    {
     "data": {
      "image/png": "[encoded data removed]",
      "text/plain": [
       "<Figure size 432x288 with 1 Axes>"
      ]
     },
     "metadata": {},
     "output_type": "display_data"
    }
   ],
   "source": [
    "# Plot the loss and accuracy curves for training and validation \n",
    "plt.plot(history.history['val_loss'], color='b', label=\"validation loss\")\n",
    "plt.title(\"Test Loss\")\n",
    "plt.xlabel(\"Number of Epochs\")\n",
    "plt.ylabel(\"Loss\")\n",
    "plt.legend()\n",
    "plt.show()"
   ]
  },
  {
   "cell_type": "markdown",
   "id": "23c894f5",
   "metadata": {
    "papermill": {
     "duration": 0.010647,
     "end_time": "2022-08-16T19:08:21.473547",
     "exception": false,
     "start_time": "2022-08-16T19:08:21.462900",
     "status": "completed"
    },
    "tags": []
   },
   "source": [
    "# Submission"
   ]
  },
  {
   "cell_type": "code",
   "execution_count": 22,
   "id": "8ded88b4",
   "metadata": {
    "execution": {
     "iopub.execute_input": "2022-08-16T19:08:21.497144Z",
     "iopub.status.busy": "2022-08-16T19:08:21.496783Z",
     "iopub.status.idle": "2022-08-16T19:08:23.305172Z",
     "shell.execute_reply": "2022-08-16T19:08:23.304211Z"
    },
    "papermill": {
     "duration": 1.822835,
     "end_time": "2022-08-16T19:08:23.307536",
     "exception": false,
     "start_time": "2022-08-16T19:08:21.484701",
     "status": "completed"
    },
    "tags": []
   },
   "outputs": [],
   "source": [
    "# Submit to Kaggle Competition\n",
    "results = model.predict(\n",
    "    X_test,    \n",
    "    verbose='auto',    \n",
    ")\n",
    "\n",
    "results = np.argmax(results,axis = 1)\n",
    "results = pd.Series(results,name=\"Label\")\n",
    "submission = pd.concat([pd.Series(range(1,28001),name = \"ImageId\"),results],axis = 1)\n",
    "submission.to_csv(\"submission.csv\",index=False)"
   ]
  }
 ],
 "metadata": {
  "kernelspec": {
   "display_name": "Python 3",
   "language": "python",
   "name": "python3"
  },
  "language_info": {
   "codemirror_mode": {
    "name": "ipython",
    "version": 3
   },
   "file_extension": ".py",
   "mimetype": "text/x-python",
   "name": "python",
   "nbconvert_exporter": "python",
   "pygments_lexer": "ipython3",
   "version": "3.7.12"
  },
  "papermill": {
   "default_parameters": {},
   "duration": 340.479138,
   "end_time": "2022-08-16T19:08:26.091550",
   "environment_variables": {},
   "exception": null,
   "input_path": "__notebook__.ipynb",
   "output_path": "__notebook__.ipynb",
   "parameters": {},
   "start_time": "2022-08-16T19:02:45.612412",
   "version": "2.3.4"
  }
 },
 "nbformat": 4,
 "nbformat_minor": 5
}
