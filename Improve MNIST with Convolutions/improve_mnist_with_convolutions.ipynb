{
  "metadata": {
    "kernelspec": {
      "language": "python",
      "display_name": "Python 3",
      "name": "python3"
    },
    "language_info": {
      "name": "python",
      "version": "3.7.12",
      "mimetype": "text/x-python",
      "codemirror_mode": {
        "name": "ipython",
        "version": 3
      },
      "pygments_lexer": "ipython3",
      "nbconvert_exporter": "python",
      "file_extension": ".py"
    },
    "colab": {
      "name": "improve-mnist-with-convolutions.ipynb",
      "provenance": []
    },
    "accelerator": "GPU",
    "gpuClass": "standard"
  },
  "nbformat_minor": 0,
  "nbformat": 4,
  "cells": [
    {
      "cell_type": "markdown",
      "source": [
        "# Improve MNIST with Convolutions\n",
        "\n",
        "For this exercise we see if we can improve MNIST to 99.5% accuracy or more by adding only a single convolutional layer and a single MaxPooling 2D layer to the model. We stop training once the accuracy goes above this amount. It should happen in less than 10 epochs, so it's ok to hard code the number of epochs for training, but our training must end once it hits the above metric. If it doesn't, then we'll need to redesign your callback. When 99.5% accuracy has been hit, we print out the string \"Reached 99.5% accuracy so cancelling training!\"\n"
      ],
      "metadata": {
        "id": "t225XovoBWC9"
      }
    },
    {
      "cell_type": "code",
      "source": [
        "# Import libraries\n",
        "import os\n",
        "import numpy as np\n",
        "import tensorflow as tf\n",
        "from tensorflow import keras"
      ],
      "metadata": {
        "execution": {
          "iopub.status.busy": "2022-08-03T14:15:36.612548Z",
          "iopub.execute_input": "2022-08-03T14:15:36.615911Z",
          "iopub.status.idle": "2022-08-03T14:15:42.347198Z",
          "shell.execute_reply.started": "2022-08-03T14:15:36.615866Z",
          "shell.execute_reply": "2022-08-03T14:15:42.345761Z"
        },
        "trusted": true,
        "id": "6jW1NnhmBWDB"
      },
      "execution_count": 1,
      "outputs": []
    },
    {
      "cell_type": "code",
      "source": [
        "# Load the data\n",
        "\n",
        "# Get only training set\n",
        "(training_images, training_labels), _ = tf.keras.datasets.mnist.load_data() "
      ],
      "metadata": {
        "execution": {
          "iopub.status.busy": "2022-08-03T14:15:42.351689Z",
          "iopub.execute_input": "2022-08-03T14:15:42.352941Z",
          "iopub.status.idle": "2022-08-03T14:15:45.112299Z",
          "shell.execute_reply.started": "2022-08-03T14:15:42.352895Z",
          "shell.execute_reply": "2022-08-03T14:15:45.111014Z"
        },
        "trusted": true,
        "id": "zmPH3qyyBWDE",
        "colab": {
          "base_uri": "https://localhost:8080/"
        },
        "outputId": "abc63d8c-98a1-4ab3-b0ca-5673bd18f395"
      },
      "execution_count": 2,
      "outputs": [
        {
          "output_type": "stream",
          "name": "stdout",
          "text": [
            "Downloading data from https://storage.googleapis.com/tensorflow/tf-keras-datasets/mnist.npz\n",
            "11493376/11490434 [==============================] - 0s 0us/step\n",
            "11501568/11490434 [==============================] - 0s 0us/step\n"
          ]
        }
      ]
    },
    {
      "cell_type": "markdown",
      "source": [
        "## Pre-processing the data\n",
        "\n",
        "One important step when dealing with image data is to preprocess the data. During the preprocess step we can apply transformations to the dataset that will be fed into our convolutional neural network.\n",
        "\n",
        "Here we will apply two transformations to the data:\n",
        "- Reshape the data so that it has an extra dimension. The reason for this is that commonly we will use 3-dimensional arrays (without counting the batch dimension) to represent image data. The third dimension represents the color using RGB values. This data might be in black and white format so the third dimension doesn't really add any additional information for the classification process but it is a good practice regardless.\n",
        "- Normalize the pixel values so that these are values between 0 and 1. You can achieve this by dividing every value in the array by the maximum.\n",
        "\n",
        "Remember that these tensors are of type `numpy.ndarray` so you can use functions like [reshape](https://numpy.org/doc/stable/reference/generated/numpy.reshape.html) or [divide](https://numpy.org/doc/stable/reference/generated/numpy.divide.html) to complete the `reshape_and_normalize` function below:"
      ],
      "metadata": {
        "id": "QNZmDOsCBWDH"
      }
    },
    {
      "cell_type": "code",
      "source": [
        "print(training_images)"
      ],
      "metadata": {
        "execution": {
          "iopub.status.busy": "2022-08-03T14:15:45.114298Z",
          "iopub.execute_input": "2022-08-03T14:15:45.114703Z",
          "iopub.status.idle": "2022-08-03T14:15:45.134589Z",
          "shell.execute_reply.started": "2022-08-03T14:15:45.114663Z",
          "shell.execute_reply": "2022-08-03T14:15:45.131384Z"
        },
        "trusted": true,
        "colab": {
          "base_uri": "https://localhost:8080/"
        },
        "id": "HOkTfeHYBWDJ",
        "outputId": "f83d8f71-7b9e-4ddf-9e2f-b7c2ad958715"
      },
      "execution_count": 3,
      "outputs": [
        {
          "output_type": "stream",
          "name": "stdout",
          "text": [
            "[[[0 0 0 ... 0 0 0]\n",
            "  [0 0 0 ... 0 0 0]\n",
            "  [0 0 0 ... 0 0 0]\n",
            "  ...\n",
            "  [0 0 0 ... 0 0 0]\n",
            "  [0 0 0 ... 0 0 0]\n",
            "  [0 0 0 ... 0 0 0]]\n",
            "\n",
            " [[0 0 0 ... 0 0 0]\n",
            "  [0 0 0 ... 0 0 0]\n",
            "  [0 0 0 ... 0 0 0]\n",
            "  ...\n",
            "  [0 0 0 ... 0 0 0]\n",
            "  [0 0 0 ... 0 0 0]\n",
            "  [0 0 0 ... 0 0 0]]\n",
            "\n",
            " [[0 0 0 ... 0 0 0]\n",
            "  [0 0 0 ... 0 0 0]\n",
            "  [0 0 0 ... 0 0 0]\n",
            "  ...\n",
            "  [0 0 0 ... 0 0 0]\n",
            "  [0 0 0 ... 0 0 0]\n",
            "  [0 0 0 ... 0 0 0]]\n",
            "\n",
            " ...\n",
            "\n",
            " [[0 0 0 ... 0 0 0]\n",
            "  [0 0 0 ... 0 0 0]\n",
            "  [0 0 0 ... 0 0 0]\n",
            "  ...\n",
            "  [0 0 0 ... 0 0 0]\n",
            "  [0 0 0 ... 0 0 0]\n",
            "  [0 0 0 ... 0 0 0]]\n",
            "\n",
            " [[0 0 0 ... 0 0 0]\n",
            "  [0 0 0 ... 0 0 0]\n",
            "  [0 0 0 ... 0 0 0]\n",
            "  ...\n",
            "  [0 0 0 ... 0 0 0]\n",
            "  [0 0 0 ... 0 0 0]\n",
            "  [0 0 0 ... 0 0 0]]\n",
            "\n",
            " [[0 0 0 ... 0 0 0]\n",
            "  [0 0 0 ... 0 0 0]\n",
            "  [0 0 0 ... 0 0 0]\n",
            "  ...\n",
            "  [0 0 0 ... 0 0 0]\n",
            "  [0 0 0 ... 0 0 0]\n",
            "  [0 0 0 ... 0 0 0]]]\n"
          ]
        }
      ]
    },
    {
      "cell_type": "code",
      "source": [
        "print(training_images.shape)"
      ],
      "metadata": {
        "execution": {
          "iopub.status.busy": "2022-08-03T14:15:45.139801Z",
          "iopub.execute_input": "2022-08-03T14:15:45.140704Z",
          "iopub.status.idle": "2022-08-03T14:15:45.150449Z",
          "shell.execute_reply.started": "2022-08-03T14:15:45.140675Z",
          "shell.execute_reply": "2022-08-03T14:15:45.148918Z"
        },
        "trusted": true,
        "colab": {
          "base_uri": "https://localhost:8080/"
        },
        "id": "btiY6nXiBWDK",
        "outputId": "ee35767b-ef71-4873-cd19-d9984f379286"
      },
      "execution_count": 4,
      "outputs": [
        {
          "output_type": "stream",
          "name": "stdout",
          "text": [
            "(60000, 28, 28)\n"
          ]
        }
      ]
    },
    {
      "cell_type": "code",
      "source": [
        "# reshape_and_normalize\n",
        "def reshape_and_normalize(images):\n",
        "\n",
        "    # Reshape the images to add an extra dimension\n",
        "    images = np.reshape(images, (60000, 28, 28, 1))\n",
        "    \n",
        "    # Normalize pixel values\n",
        "    images = np.divide(images, np.amax(images))\n",
        "\n",
        "    return images"
      ],
      "metadata": {
        "execution": {
          "iopub.status.busy": "2022-08-03T14:15:45.152932Z",
          "iopub.execute_input": "2022-08-03T14:15:45.153639Z",
          "iopub.status.idle": "2022-08-03T14:15:45.162793Z",
          "shell.execute_reply.started": "2022-08-03T14:15:45.153599Z",
          "shell.execute_reply": "2022-08-03T14:15:45.161021Z"
        },
        "trusted": true,
        "id": "TNDsJXRTBWDL"
      },
      "execution_count": 5,
      "outputs": []
    },
    {
      "cell_type": "markdown",
      "source": [
        "Let's test the function:"
      ],
      "metadata": {
        "id": "FQ97OaxTBWDM"
      }
    },
    {
      "cell_type": "code",
      "source": [
        "# Reload the images in case you run this cell multiple times\n",
        "(training_images, _), _ = tf.keras.datasets.mnist.load_data() \n",
        "\n",
        "# Apply your function\n",
        "training_images = reshape_and_normalize(training_images)\n",
        "\n",
        "print(f\"Maximum pixel value after normalization: {np.max(training_images)}\\n\")\n",
        "print(f\"Shape of training set after reshaping: {training_images.shape}\\n\")\n",
        "print(f\"Shape of one image after reshaping: {training_images[0].shape}\")\n"
      ],
      "metadata": {
        "execution": {
          "iopub.status.busy": "2022-08-03T14:15:45.165129Z",
          "iopub.execute_input": "2022-08-03T14:15:45.166521Z",
          "iopub.status.idle": "2022-08-03T14:15:45.730065Z",
          "shell.execute_reply.started": "2022-08-03T14:15:45.166459Z",
          "shell.execute_reply": "2022-08-03T14:15:45.728691Z"
        },
        "trusted": true,
        "colab": {
          "base_uri": "https://localhost:8080/"
        },
        "id": "xcSynx07BWDN",
        "outputId": "5a62ea0c-c45f-475b-a2fb-fc311d0d87f0"
      },
      "execution_count": 6,
      "outputs": [
        {
          "output_type": "stream",
          "name": "stdout",
          "text": [
            "Maximum pixel value after normalization: 1.0\n",
            "\n",
            "Shape of training set after reshaping: (60000, 28, 28, 1)\n",
            "\n",
            "Shape of one image after reshaping: (28, 28, 1)\n"
          ]
        }
      ]
    },
    {
      "cell_type": "markdown",
      "source": [
        "## Defining callback\n",
        "\n",
        "Now we create the callback that will ensure that training will stop after an accuracy of 99.5% is reached:"
      ],
      "metadata": {
        "id": "ZvZYC9DKBWDO"
      }
    },
    {
      "cell_type": "code",
      "source": [
        "# Remember to inherit from the correct class\n",
        "class myCallback(tf.keras.callbacks.Callback):\n",
        "        # Define the correct function signature for on_epoch_end\n",
        "        def on_epoch_end(self, epoch, logs={}):\n",
        "            if (logs.get('accuracy') >= 0.995):\n",
        "                print(\"\\nReached 99.5% accuracy so cancelling training!\") \n",
        "                \n",
        "                # Stop training once the above condition is met\n",
        "                self.model.stop_training = True"
      ],
      "metadata": {
        "execution": {
          "iopub.status.busy": "2022-08-03T14:15:45.731852Z",
          "iopub.execute_input": "2022-08-03T14:15:45.733084Z",
          "iopub.status.idle": "2022-08-03T14:15:45.742561Z",
          "shell.execute_reply.started": "2022-08-03T14:15:45.733041Z",
          "shell.execute_reply": "2022-08-03T14:15:45.740609Z"
        },
        "trusted": true,
        "id": "v9d86b68BWDP"
      },
      "execution_count": 7,
      "outputs": []
    },
    {
      "cell_type": "markdown",
      "source": [
        "## Convolutional Model\n",
        "\n",
        "Finally, we write the `convolutional_model` function. This function should return our convolutional neural network. **The model should achieve an accuracy of 99.5% or more before 10 epochs to pass this assignment.**"
      ],
      "metadata": {
        "id": "riNK_6UxBWDR"
      }
    },
    {
      "cell_type": "code",
      "source": [
        "def convolutional_model():    \n",
        "\n",
        "    # Define the model\n",
        "    model = tf.keras.models.Sequential([ \n",
        "        \n",
        "    # Add convolutions and max pooling\n",
        "    tf.keras.layers.Conv2D(32, (3,3), activation='relu', input_shape=(28, 28, 1)),\n",
        "    tf.keras.layers.MaxPooling2D(2, 2),  \n",
        "    \n",
        "    # Add the same layers as before\n",
        "    tf.keras.layers.Flatten(),\n",
        "    tf.keras.layers.Dense(128, activation='relu'),\n",
        "    tf.keras.layers.Dense(10, activation='softmax')\n",
        "    ])     \n",
        "\n",
        "    # Compile the model\n",
        "    model.compile(optimizer='adam', \n",
        "                  loss='sparse_categorical_crossentropy', \n",
        "                  metrics=['accuracy']) \n",
        "        \n",
        "    return model"
      ],
      "metadata": {
        "execution": {
          "iopub.status.busy": "2022-08-03T14:15:45.744883Z",
          "iopub.execute_input": "2022-08-03T14:15:45.745906Z",
          "iopub.status.idle": "2022-08-03T14:15:45.756648Z",
          "shell.execute_reply.started": "2022-08-03T14:15:45.745861Z",
          "shell.execute_reply": "2022-08-03T14:15:45.754942Z"
        },
        "trusted": true,
        "id": "PA6iN8ZkBWDR"
      },
      "execution_count": 8,
      "outputs": []
    },
    {
      "cell_type": "code",
      "source": [
        "# Save your untrained model\n",
        "model = convolutional_model()\n",
        "\n",
        "# Instantiate the callback class\n",
        "callbacks = myCallback()\n",
        "\n",
        "# Train your model (this can take up to 5 minutes)\n",
        "history = model.fit(training_images, training_labels, epochs=10, callbacks=[callbacks])"
      ],
      "metadata": {
        "execution": {
          "iopub.status.busy": "2022-08-03T14:15:45.759549Z",
          "iopub.execute_input": "2022-08-03T14:15:45.761264Z",
          "iopub.status.idle": "2022-08-03T14:16:29.175092Z",
          "shell.execute_reply.started": "2022-08-03T14:15:45.761222Z",
          "shell.execute_reply": "2022-08-03T14:16:29.173265Z"
        },
        "trusted": true,
        "colab": {
          "base_uri": "https://localhost:8080/"
        },
        "id": "7VtmgqHYBWDS",
        "outputId": "4352987a-89d5-48fa-abbb-4d4f1cbbb6ea"
      },
      "execution_count": 9,
      "outputs": [
        {
          "output_type": "stream",
          "name": "stdout",
          "text": [
            "Epoch 1/10\n",
            "1875/1875 [==============================] - 17s 3ms/step - loss: 0.1493 - accuracy: 0.9562\n",
            "Epoch 2/10\n",
            "1875/1875 [==============================] - 5s 3ms/step - loss: 0.0524 - accuracy: 0.9844\n",
            "Epoch 3/10\n",
            "1875/1875 [==============================] - 5s 3ms/step - loss: 0.0334 - accuracy: 0.9896\n",
            "Epoch 4/10\n",
            "1875/1875 [==============================] - 5s 2ms/step - loss: 0.0231 - accuracy: 0.9925\n",
            "Epoch 5/10\n",
            "1875/1875 [==============================] - 5s 3ms/step - loss: 0.0160 - accuracy: 0.9949\n",
            "Epoch 6/10\n",
            "1872/1875 [============================>.] - ETA: 0s - loss: 0.0112 - accuracy: 0.9964\n",
            "Reached 99.5% accuracy so cancelling training!\n",
            "1875/1875 [==============================] - 5s 3ms/step - loss: 0.0112 - accuracy: 0.9964\n"
          ]
        }
      ]
    },
    {
      "cell_type": "code",
      "source": [
        "print(f\"Your model was trained for {len(history.epoch)} epochs\")"
      ],
      "metadata": {
        "execution": {
          "iopub.status.busy": "2022-08-03T14:17:20.906152Z",
          "iopub.execute_input": "2022-08-03T14:17:20.906644Z",
          "iopub.status.idle": "2022-08-03T14:17:20.915298Z",
          "shell.execute_reply.started": "2022-08-03T14:17:20.906614Z",
          "shell.execute_reply": "2022-08-03T14:17:20.913618Z"
        },
        "trusted": true,
        "id": "dwY6d7anBWDT",
        "colab": {
          "base_uri": "https://localhost:8080/"
        },
        "outputId": "c83d3572-475f-4398-ec33-7ec71252aa4e"
      },
      "execution_count": 10,
      "outputs": [
        {
          "output_type": "stream",
          "name": "stdout",
          "text": [
            "Your model was trained for 6 epochs\n"
          ]
        }
      ]
    },
    {
      "cell_type": "markdown",
      "source": [
        "Credit:\n",
        "* Derived from DeepLearning.ai TensorFlow Developer Professional Certificate Programming Assignment: Improve MNIST with convolutions"
      ],
      "metadata": {
        "id": "txntijJaBWDT"
      }
    }
  ]
}