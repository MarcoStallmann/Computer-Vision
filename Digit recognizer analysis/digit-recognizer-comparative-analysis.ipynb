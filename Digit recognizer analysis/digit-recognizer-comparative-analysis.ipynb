{
 "cells": [
  {
   "cell_type": "code",
   "execution_count": 1,
   "id": "cd031f06",
   "metadata": {
    "execution": {
     "iopub.execute_input": "2022-08-16T19:43:26.254877Z",
     "iopub.status.busy": "2022-08-16T19:43:26.254137Z",
     "iopub.status.idle": "2022-08-16T19:43:31.453932Z",
     "shell.execute_reply": "2022-08-16T19:43:31.451006Z"
    },
    "papermill": {
     "duration": 5.210502,
     "end_time": "2022-08-16T19:43:31.456273",
     "exception": false,
     "start_time": "2022-08-16T19:43:26.245771",
     "status": "completed"
    },
    "tags": []
   },
   "outputs": [
    {
     "name": "stdout",
     "output_type": "stream",
     "text": [
      "['digit-recognizer']\n"
     ]
    }
   ],
   "source": [
    "# Import libraries\n",
    "import matplotlib.pyplot as plt\n",
    "import numpy as np\n",
    "import pandas as pd\n",
    "import seaborn as sns\n",
    "import tensorflow as tf\n",
    "\n",
    "\n",
    "# import warnings\n",
    "import warnings\n",
    "# filter warnings\n",
    "warnings.filterwarnings('ignore')\n",
    "\n",
    "import os\n",
    "print(os.listdir(\"../input\"))"
   ]
  },
  {
   "cell_type": "markdown",
   "id": "ac9a3dab",
   "metadata": {
    "papermill": {
     "duration": 0.005199,
     "end_time": "2022-08-16T19:43:31.467269",
     "exception": false,
     "start_time": "2022-08-16T19:43:31.462070",
     "status": "completed"
    },
    "tags": []
   },
   "source": [
    "Reference: \n",
    "1. [Convolutional Neural Network (CNN) Tutorial](https://www.kaggle.com/code/kanncaa1/convolutional-neural-network-cnn-tutorial) by DATAI\n",
    "2. [Introduction to CNN Keras - 0.997 (top 6%)](https://www.kaggle.com/code/yassineghouzam/introduction-to-cnn-keras-0-997-top-6)\n",
    "3. [Simple deep MLP with Keras](https://www.kaggle.com/code/fchollet/simple-deep-mlp-with-keras) by [fchollet](https://www.kaggle.com/fchollet)\n",
    "\n",
    "In a later version of this Notebook we will have to make use of transfer learning and [Data augmentation](https://www.kaggle.com/code/ryanholbrook/data-augmentation/tutorial).\n",
    "\n",
    "# Competition\n",
    "\n",
    "In the [Digit Recognizer](https://www.kaggle.com/competitions/digit-recognizer) competition, the goal is to correctly identify digits from a dataset of tens of thousands of handwritten images (MNIST). Kaggle has curated a set of tutorial-style kernels which cover everything from regression to neural networks and encourages to experiment with different algorithms.\n",
    "\n",
    "# Loading the Dataset"
   ]
  },
  {
   "cell_type": "code",
   "execution_count": 2,
   "id": "80afef1b",
   "metadata": {
    "execution": {
     "iopub.execute_input": "2022-08-16T19:43:31.479877Z",
     "iopub.status.busy": "2022-08-16T19:43:31.478791Z",
     "iopub.status.idle": "2022-08-16T19:43:34.325494Z",
     "shell.execute_reply": "2022-08-16T19:43:34.323294Z"
    },
    "papermill": {
     "duration": 2.85559,
     "end_time": "2022-08-16T19:43:34.328146",
     "exception": false,
     "start_time": "2022-08-16T19:43:31.472556",
     "status": "completed"
    },
    "tags": []
   },
   "outputs": [
    {
     "name": "stdout",
     "output_type": "stream",
     "text": [
      "(42000, 785)\n"
     ]
    },
    {
     "data": {
      "text/html": [
       "<div>\n",
       "<style scoped>\n",
       "    .dataframe tbody tr th:only-of-type {\n",
       "        vertical-align: middle;\n",
       "    }\n",
       "\n",
       "    .dataframe tbody tr th {\n",
       "        vertical-align: top;\n",
       "    }\n",
       "\n",
       "    .dataframe thead th {\n",
       "        text-align: right;\n",
       "    }\n",
       "</style>\n",
       "<table border=\"1\" class=\"dataframe\">\n",
       "  <thead>\n",
       "    <tr style=\"text-align: right;\">\n",
       "      <th></th>\n",
       "      <th>label</th>\n",
       "      <th>pixel0</th>\n",
       "      <th>pixel1</th>\n",
       "      <th>pixel2</th>\n",
       "      <th>pixel3</th>\n",
       "      <th>pixel4</th>\n",
       "      <th>pixel5</th>\n",
       "      <th>pixel6</th>\n",
       "      <th>pixel7</th>\n",
       "      <th>pixel8</th>\n",
       "      <th>...</th>\n",
       "      <th>pixel774</th>\n",
       "      <th>pixel775</th>\n",
       "      <th>pixel776</th>\n",
       "      <th>pixel777</th>\n",
       "      <th>pixel778</th>\n",
       "      <th>pixel779</th>\n",
       "      <th>pixel780</th>\n",
       "      <th>pixel781</th>\n",
       "      <th>pixel782</th>\n",
       "      <th>pixel783</th>\n",
       "    </tr>\n",
       "  </thead>\n",
       "  <tbody>\n",
       "    <tr>\n",
       "      <th>0</th>\n",
       "      <td>1</td>\n",
       "      <td>0</td>\n",
       "      <td>0</td>\n",
       "      <td>0</td>\n",
       "      <td>0</td>\n",
       "      <td>0</td>\n",
       "      <td>0</td>\n",
       "      <td>0</td>\n",
       "      <td>0</td>\n",
       "      <td>0</td>\n",
       "      <td>...</td>\n",
       "      <td>0</td>\n",
       "      <td>0</td>\n",
       "      <td>0</td>\n",
       "      <td>0</td>\n",
       "      <td>0</td>\n",
       "      <td>0</td>\n",
       "      <td>0</td>\n",
       "      <td>0</td>\n",
       "      <td>0</td>\n",
       "      <td>0</td>\n",
       "    </tr>\n",
       "    <tr>\n",
       "      <th>1</th>\n",
       "      <td>0</td>\n",
       "      <td>0</td>\n",
       "      <td>0</td>\n",
       "      <td>0</td>\n",
       "      <td>0</td>\n",
       "      <td>0</td>\n",
       "      <td>0</td>\n",
       "      <td>0</td>\n",
       "      <td>0</td>\n",
       "      <td>0</td>\n",
       "      <td>...</td>\n",
       "      <td>0</td>\n",
       "      <td>0</td>\n",
       "      <td>0</td>\n",
       "      <td>0</td>\n",
       "      <td>0</td>\n",
       "      <td>0</td>\n",
       "      <td>0</td>\n",
       "      <td>0</td>\n",
       "      <td>0</td>\n",
       "      <td>0</td>\n",
       "    </tr>\n",
       "    <tr>\n",
       "      <th>2</th>\n",
       "      <td>1</td>\n",
       "      <td>0</td>\n",
       "      <td>0</td>\n",
       "      <td>0</td>\n",
       "      <td>0</td>\n",
       "      <td>0</td>\n",
       "      <td>0</td>\n",
       "      <td>0</td>\n",
       "      <td>0</td>\n",
       "      <td>0</td>\n",
       "      <td>...</td>\n",
       "      <td>0</td>\n",
       "      <td>0</td>\n",
       "      <td>0</td>\n",
       "      <td>0</td>\n",
       "      <td>0</td>\n",
       "      <td>0</td>\n",
       "      <td>0</td>\n",
       "      <td>0</td>\n",
       "      <td>0</td>\n",
       "      <td>0</td>\n",
       "    </tr>\n",
       "    <tr>\n",
       "      <th>3</th>\n",
       "      <td>4</td>\n",
       "      <td>0</td>\n",
       "      <td>0</td>\n",
       "      <td>0</td>\n",
       "      <td>0</td>\n",
       "      <td>0</td>\n",
       "      <td>0</td>\n",
       "      <td>0</td>\n",
       "      <td>0</td>\n",
       "      <td>0</td>\n",
       "      <td>...</td>\n",
       "      <td>0</td>\n",
       "      <td>0</td>\n",
       "      <td>0</td>\n",
       "      <td>0</td>\n",
       "      <td>0</td>\n",
       "      <td>0</td>\n",
       "      <td>0</td>\n",
       "      <td>0</td>\n",
       "      <td>0</td>\n",
       "      <td>0</td>\n",
       "    </tr>\n",
       "    <tr>\n",
       "      <th>4</th>\n",
       "      <td>0</td>\n",
       "      <td>0</td>\n",
       "      <td>0</td>\n",
       "      <td>0</td>\n",
       "      <td>0</td>\n",
       "      <td>0</td>\n",
       "      <td>0</td>\n",
       "      <td>0</td>\n",
       "      <td>0</td>\n",
       "      <td>0</td>\n",
       "      <td>...</td>\n",
       "      <td>0</td>\n",
       "      <td>0</td>\n",
       "      <td>0</td>\n",
       "      <td>0</td>\n",
       "      <td>0</td>\n",
       "      <td>0</td>\n",
       "      <td>0</td>\n",
       "      <td>0</td>\n",
       "      <td>0</td>\n",
       "      <td>0</td>\n",
       "    </tr>\n",
       "  </tbody>\n",
       "</table>\n",
       "<p>5 rows × 785 columns</p>\n",
       "</div>"
      ],
      "text/plain": [
       "   label  pixel0  pixel1  pixel2  pixel3  pixel4  pixel5  pixel6  pixel7  \\\n",
       "0      1       0       0       0       0       0       0       0       0   \n",
       "1      0       0       0       0       0       0       0       0       0   \n",
       "2      1       0       0       0       0       0       0       0       0   \n",
       "3      4       0       0       0       0       0       0       0       0   \n",
       "4      0       0       0       0       0       0       0       0       0   \n",
       "\n",
       "   pixel8  ...  pixel774  pixel775  pixel776  pixel777  pixel778  pixel779  \\\n",
       "0       0  ...         0         0         0         0         0         0   \n",
       "1       0  ...         0         0         0         0         0         0   \n",
       "2       0  ...         0         0         0         0         0         0   \n",
       "3       0  ...         0         0         0         0         0         0   \n",
       "4       0  ...         0         0         0         0         0         0   \n",
       "\n",
       "   pixel780  pixel781  pixel782  pixel783  \n",
       "0         0         0         0         0  \n",
       "1         0         0         0         0  \n",
       "2         0         0         0         0  \n",
       "3         0         0         0         0  \n",
       "4         0         0         0         0  \n",
       "\n",
       "[5 rows x 785 columns]"
      ]
     },
     "execution_count": 2,
     "metadata": {},
     "output_type": "execute_result"
    }
   ],
   "source": [
    "# Read the training data from csv-file\n",
    "df_train = pd.read_csv(\"../input/digit-recognizer/train.csv\")\n",
    "print(df_train.shape)\n",
    "df_train.head()"
   ]
  },
  {
   "cell_type": "code",
   "execution_count": 3,
   "id": "4b613fd0",
   "metadata": {
    "execution": {
     "iopub.execute_input": "2022-08-16T19:43:34.341876Z",
     "iopub.status.busy": "2022-08-16T19:43:34.340974Z",
     "iopub.status.idle": "2022-08-16T19:43:36.021781Z",
     "shell.execute_reply": "2022-08-16T19:43:36.020662Z"
    },
    "papermill": {
     "duration": 1.689945,
     "end_time": "2022-08-16T19:43:36.024145",
     "exception": false,
     "start_time": "2022-08-16T19:43:34.334200",
     "status": "completed"
    },
    "tags": []
   },
   "outputs": [
    {
     "name": "stdout",
     "output_type": "stream",
     "text": [
      "(28000, 784)\n"
     ]
    },
    {
     "data": {
      "text/html": [
       "<div>\n",
       "<style scoped>\n",
       "    .dataframe tbody tr th:only-of-type {\n",
       "        vertical-align: middle;\n",
       "    }\n",
       "\n",
       "    .dataframe tbody tr th {\n",
       "        vertical-align: top;\n",
       "    }\n",
       "\n",
       "    .dataframe thead th {\n",
       "        text-align: right;\n",
       "    }\n",
       "</style>\n",
       "<table border=\"1\" class=\"dataframe\">\n",
       "  <thead>\n",
       "    <tr style=\"text-align: right;\">\n",
       "      <th></th>\n",
       "      <th>pixel0</th>\n",
       "      <th>pixel1</th>\n",
       "      <th>pixel2</th>\n",
       "      <th>pixel3</th>\n",
       "      <th>pixel4</th>\n",
       "      <th>pixel5</th>\n",
       "      <th>pixel6</th>\n",
       "      <th>pixel7</th>\n",
       "      <th>pixel8</th>\n",
       "      <th>pixel9</th>\n",
       "      <th>...</th>\n",
       "      <th>pixel774</th>\n",
       "      <th>pixel775</th>\n",
       "      <th>pixel776</th>\n",
       "      <th>pixel777</th>\n",
       "      <th>pixel778</th>\n",
       "      <th>pixel779</th>\n",
       "      <th>pixel780</th>\n",
       "      <th>pixel781</th>\n",
       "      <th>pixel782</th>\n",
       "      <th>pixel783</th>\n",
       "    </tr>\n",
       "  </thead>\n",
       "  <tbody>\n",
       "    <tr>\n",
       "      <th>0</th>\n",
       "      <td>0</td>\n",
       "      <td>0</td>\n",
       "      <td>0</td>\n",
       "      <td>0</td>\n",
       "      <td>0</td>\n",
       "      <td>0</td>\n",
       "      <td>0</td>\n",
       "      <td>0</td>\n",
       "      <td>0</td>\n",
       "      <td>0</td>\n",
       "      <td>...</td>\n",
       "      <td>0</td>\n",
       "      <td>0</td>\n",
       "      <td>0</td>\n",
       "      <td>0</td>\n",
       "      <td>0</td>\n",
       "      <td>0</td>\n",
       "      <td>0</td>\n",
       "      <td>0</td>\n",
       "      <td>0</td>\n",
       "      <td>0</td>\n",
       "    </tr>\n",
       "    <tr>\n",
       "      <th>1</th>\n",
       "      <td>0</td>\n",
       "      <td>0</td>\n",
       "      <td>0</td>\n",
       "      <td>0</td>\n",
       "      <td>0</td>\n",
       "      <td>0</td>\n",
       "      <td>0</td>\n",
       "      <td>0</td>\n",
       "      <td>0</td>\n",
       "      <td>0</td>\n",
       "      <td>...</td>\n",
       "      <td>0</td>\n",
       "      <td>0</td>\n",
       "      <td>0</td>\n",
       "      <td>0</td>\n",
       "      <td>0</td>\n",
       "      <td>0</td>\n",
       "      <td>0</td>\n",
       "      <td>0</td>\n",
       "      <td>0</td>\n",
       "      <td>0</td>\n",
       "    </tr>\n",
       "    <tr>\n",
       "      <th>2</th>\n",
       "      <td>0</td>\n",
       "      <td>0</td>\n",
       "      <td>0</td>\n",
       "      <td>0</td>\n",
       "      <td>0</td>\n",
       "      <td>0</td>\n",
       "      <td>0</td>\n",
       "      <td>0</td>\n",
       "      <td>0</td>\n",
       "      <td>0</td>\n",
       "      <td>...</td>\n",
       "      <td>0</td>\n",
       "      <td>0</td>\n",
       "      <td>0</td>\n",
       "      <td>0</td>\n",
       "      <td>0</td>\n",
       "      <td>0</td>\n",
       "      <td>0</td>\n",
       "      <td>0</td>\n",
       "      <td>0</td>\n",
       "      <td>0</td>\n",
       "    </tr>\n",
       "    <tr>\n",
       "      <th>3</th>\n",
       "      <td>0</td>\n",
       "      <td>0</td>\n",
       "      <td>0</td>\n",
       "      <td>0</td>\n",
       "      <td>0</td>\n",
       "      <td>0</td>\n",
       "      <td>0</td>\n",
       "      <td>0</td>\n",
       "      <td>0</td>\n",
       "      <td>0</td>\n",
       "      <td>...</td>\n",
       "      <td>0</td>\n",
       "      <td>0</td>\n",
       "      <td>0</td>\n",
       "      <td>0</td>\n",
       "      <td>0</td>\n",
       "      <td>0</td>\n",
       "      <td>0</td>\n",
       "      <td>0</td>\n",
       "      <td>0</td>\n",
       "      <td>0</td>\n",
       "    </tr>\n",
       "    <tr>\n",
       "      <th>4</th>\n",
       "      <td>0</td>\n",
       "      <td>0</td>\n",
       "      <td>0</td>\n",
       "      <td>0</td>\n",
       "      <td>0</td>\n",
       "      <td>0</td>\n",
       "      <td>0</td>\n",
       "      <td>0</td>\n",
       "      <td>0</td>\n",
       "      <td>0</td>\n",
       "      <td>...</td>\n",
       "      <td>0</td>\n",
       "      <td>0</td>\n",
       "      <td>0</td>\n",
       "      <td>0</td>\n",
       "      <td>0</td>\n",
       "      <td>0</td>\n",
       "      <td>0</td>\n",
       "      <td>0</td>\n",
       "      <td>0</td>\n",
       "      <td>0</td>\n",
       "    </tr>\n",
       "  </tbody>\n",
       "</table>\n",
       "<p>5 rows × 784 columns</p>\n",
       "</div>"
      ],
      "text/plain": [
       "   pixel0  pixel1  pixel2  pixel3  pixel4  pixel5  pixel6  pixel7  pixel8  \\\n",
       "0       0       0       0       0       0       0       0       0       0   \n",
       "1       0       0       0       0       0       0       0       0       0   \n",
       "2       0       0       0       0       0       0       0       0       0   \n",
       "3       0       0       0       0       0       0       0       0       0   \n",
       "4       0       0       0       0       0       0       0       0       0   \n",
       "\n",
       "   pixel9  ...  pixel774  pixel775  pixel776  pixel777  pixel778  pixel779  \\\n",
       "0       0  ...         0         0         0         0         0         0   \n",
       "1       0  ...         0         0         0         0         0         0   \n",
       "2       0  ...         0         0         0         0         0         0   \n",
       "3       0  ...         0         0         0         0         0         0   \n",
       "4       0  ...         0         0         0         0         0         0   \n",
       "\n",
       "   pixel780  pixel781  pixel782  pixel783  \n",
       "0         0         0         0         0  \n",
       "1         0         0         0         0  \n",
       "2         0         0         0         0  \n",
       "3         0         0         0         0  \n",
       "4         0         0         0         0  \n",
       "\n",
       "[5 rows x 784 columns]"
      ]
     },
     "execution_count": 3,
     "metadata": {},
     "output_type": "execute_result"
    }
   ],
   "source": [
    "# Read the test data from csv-file\n",
    "df_test = pd.read_csv(\"../input/digit-recognizer/test.csv\")\n",
    "print(df_test.shape)\n",
    "df_test.head()"
   ]
  },
  {
   "cell_type": "code",
   "execution_count": 4,
   "id": "dab8e666",
   "metadata": {
    "execution": {
     "iopub.execute_input": "2022-08-16T19:43:36.039443Z",
     "iopub.status.busy": "2022-08-16T19:43:36.037896Z",
     "iopub.status.idle": "2022-08-16T19:43:36.126612Z",
     "shell.execute_reply": "2022-08-16T19:43:36.125396Z"
    },
    "papermill": {
     "duration": 0.09804,
     "end_time": "2022-08-16T19:43:36.128818",
     "exception": false,
     "start_time": "2022-08-16T19:43:36.030778",
     "status": "completed"
    },
    "tags": []
   },
   "outputs": [],
   "source": [
    "# Save the labels in the training data to a variable\n",
    "Y_train = df_train[\"label\"]\n",
    "\n",
    "# Then drop the 'label' column from the training dataset\n",
    "X_train = df_train.drop(labels = [\"label\"],axis = 1) "
   ]
  },
  {
   "cell_type": "code",
   "execution_count": 5,
   "id": "a7442518",
   "metadata": {
    "execution": {
     "iopub.execute_input": "2022-08-16T19:43:36.142648Z",
     "iopub.status.busy": "2022-08-16T19:43:36.142352Z",
     "iopub.status.idle": "2022-08-16T19:43:36.391102Z",
     "shell.execute_reply": "2022-08-16T19:43:36.390092Z"
    },
    "papermill": {
     "duration": 0.258462,
     "end_time": "2022-08-16T19:43:36.393651",
     "exception": false,
     "start_time": "2022-08-16T19:43:36.135189",
     "status": "completed"
    },
    "tags": []
   },
   "outputs": [
    {
     "data": {
      "text/plain": [
       "1    4684\n",
       "7    4401\n",
       "3    4351\n",
       "9    4188\n",
       "2    4177\n",
       "6    4137\n",
       "0    4132\n",
       "4    4072\n",
       "8    4063\n",
       "5    3795\n",
       "Name: label, dtype: int64"
      ]
     },
     "execution_count": 5,
     "metadata": {},
     "output_type": "execute_result"
    },
    {
     "data": {
      "image/png": "[encoded data removed]",
      "text/plain": [
       "<Figure size 1080x504 with 1 Axes>"
      ]
     },
     "metadata": {
      "needs_background": "light"
     },
     "output_type": "display_data"
    }
   ],
   "source": [
    "# Count and visualize the number of digits classes\n",
    "plt.figure(figsize=(15,7))\n",
    "g = sns.countplot(Y_train, palette=\"icefire\")\n",
    "plt.title(\"Number of digit classes\")\n",
    "Y_train.value_counts()"
   ]
  },
  {
   "cell_type": "markdown",
   "id": "2b304f78",
   "metadata": {
    "papermill": {
     "duration": 0.006099,
     "end_time": "2022-08-16T19:43:36.406328",
     "exception": false,
     "start_time": "2022-08-16T19:43:36.400229",
     "status": "completed"
    },
    "tags": []
   },
   "source": [
    "The counts for the digits are very similar."
   ]
  },
  {
   "cell_type": "code",
   "execution_count": 6,
   "id": "d4ec68b4",
   "metadata": {
    "execution": {
     "iopub.execute_input": "2022-08-16T19:43:36.421604Z",
     "iopub.status.busy": "2022-08-16T19:43:36.420808Z",
     "iopub.status.idle": "2022-08-16T19:43:36.441975Z",
     "shell.execute_reply": "2022-08-16T19:43:36.440969Z"
    },
    "papermill": {
     "duration": 0.031182,
     "end_time": "2022-08-16T19:43:36.443991",
     "exception": false,
     "start_time": "2022-08-16T19:43:36.412809",
     "status": "completed"
    },
    "tags": []
   },
   "outputs": [
    {
     "data": {
      "text/plain": [
       "count       784\n",
       "unique        1\n",
       "top       False\n",
       "freq        784\n",
       "dtype: object"
      ]
     },
     "execution_count": 6,
     "metadata": {},
     "output_type": "execute_result"
    }
   ],
   "source": [
    "# Check training data for null values\n",
    "X_train.isnull().any().describe()"
   ]
  },
  {
   "cell_type": "code",
   "execution_count": 7,
   "id": "33b48462",
   "metadata": {
    "execution": {
     "iopub.execute_input": "2022-08-16T19:43:36.458392Z",
     "iopub.status.busy": "2022-08-16T19:43:36.457947Z",
     "iopub.status.idle": "2022-08-16T19:43:36.473257Z",
     "shell.execute_reply": "2022-08-16T19:43:36.472239Z"
    },
    "papermill": {
     "duration": 0.025207,
     "end_time": "2022-08-16T19:43:36.475646",
     "exception": false,
     "start_time": "2022-08-16T19:43:36.450439",
     "status": "completed"
    },
    "tags": []
   },
   "outputs": [
    {
     "data": {
      "text/plain": [
       "count       784\n",
       "unique        1\n",
       "top       False\n",
       "freq        784\n",
       "dtype: object"
      ]
     },
     "execution_count": 7,
     "metadata": {},
     "output_type": "execute_result"
    }
   ],
   "source": [
    "# Check test data for null values\n",
    "df_test.isnull().any().describe()"
   ]
  },
  {
   "cell_type": "code",
   "execution_count": 8,
   "id": "6cea1af2",
   "metadata": {
    "execution": {
     "iopub.execute_input": "2022-08-16T19:43:36.491874Z",
     "iopub.status.busy": "2022-08-16T19:43:36.491565Z",
     "iopub.status.idle": "2022-08-16T19:43:36.719757Z",
     "shell.execute_reply": "2022-08-16T19:43:36.718523Z"
    },
    "papermill": {
     "duration": 0.240089,
     "end_time": "2022-08-16T19:43:36.723219",
     "exception": false,
     "start_time": "2022-08-16T19:43:36.483130",
     "status": "completed"
    },
    "tags": []
   },
   "outputs": [
    {
     "data": {
      "image/png": "[encoded data removed]",
      "text/plain": [
       "<Figure size 432x288 with 1 Axes>"
      ]
     },
     "metadata": {
      "needs_background": "light"
     },
     "output_type": "display_data"
    }
   ],
   "source": [
    "# Plot an example of the reshaped images\n",
    "img = X_train.iloc[72].values\n",
    "img = img.reshape((28,28))\n",
    "plt.imshow(img,cmap='gray')\n",
    "plt.title(X_train.iloc[0,0])\n",
    "plt.axis(\"off\")\n",
    "plt.show()"
   ]
  },
  {
   "cell_type": "code",
   "execution_count": 9,
   "id": "a27bbf06",
   "metadata": {
    "execution": {
     "iopub.execute_input": "2022-08-16T19:43:36.790894Z",
     "iopub.status.busy": "2022-08-16T19:43:36.790523Z",
     "iopub.status.idle": "2022-08-16T19:43:36.879051Z",
     "shell.execute_reply": "2022-08-16T19:43:36.877747Z"
    },
    "papermill": {
     "duration": 0.119881,
     "end_time": "2022-08-16T19:43:36.882762",
     "exception": false,
     "start_time": "2022-08-16T19:43:36.762881",
     "status": "completed"
    },
    "tags": []
   },
   "outputs": [
    {
     "data": {
      "image/png": "[encoded data removed]",
      "text/plain": [
       "<Figure size 432x288 with 1 Axes>"
      ]
     },
     "metadata": {
      "needs_background": "light"
     },
     "output_type": "display_data"
    }
   ],
   "source": [
    "# Plot another example of the reshaped images\n",
    "img = X_train.iloc[73].values\n",
    "img = img.reshape((28,28))\n",
    "plt.imshow(img,cmap='gray')\n",
    "plt.title(X_train.iloc[3,0])\n",
    "plt.axis(\"off\")\n",
    "plt.show()"
   ]
  },
  {
   "cell_type": "markdown",
   "id": "b4fcdb6f",
   "metadata": {
    "papermill": {
     "duration": 0.01702,
     "end_time": "2022-08-16T19:43:36.918638",
     "exception": false,
     "start_time": "2022-08-16T19:43:36.901618",
     "status": "completed"
    },
    "tags": []
   },
   "source": [
    "# Normalization, Reshape and Label Encoding"
   ]
  },
  {
   "cell_type": "code",
   "execution_count": 10,
   "id": "6270ef92",
   "metadata": {
    "execution": {
     "iopub.execute_input": "2022-08-16T19:43:36.952803Z",
     "iopub.status.busy": "2022-08-16T19:43:36.952364Z",
     "iopub.status.idle": "2022-08-16T19:43:37.120132Z",
     "shell.execute_reply": "2022-08-16T19:43:37.118496Z"
    },
    "papermill": {
     "duration": 0.186212,
     "end_time": "2022-08-16T19:43:37.122975",
     "exception": false,
     "start_time": "2022-08-16T19:43:36.936763",
     "status": "completed"
    },
    "tags": []
   },
   "outputs": [
    {
     "name": "stdout",
     "output_type": "stream",
     "text": [
      "X_train shape:  (42000, 784)\n",
      "X_test shape:  (28000, 784)\n"
     ]
    }
   ],
   "source": [
    "# Normalize the data, because CNNs work better with normalized data\n",
    "X_train = X_train / 255.0\n",
    "X_test = df_test / 255.0\n",
    "print(\"X_train shape: \",X_train.shape)\n",
    "print(\"X_test shape: \",X_test.shape)"
   ]
  },
  {
   "cell_type": "code",
   "execution_count": 11,
   "id": "ed4710bb",
   "metadata": {
    "execution": {
     "iopub.execute_input": "2022-08-16T19:43:37.138639Z",
     "iopub.status.busy": "2022-08-16T19:43:37.138337Z",
     "iopub.status.idle": "2022-08-16T19:43:37.146083Z",
     "shell.execute_reply": "2022-08-16T19:43:37.144753Z"
    },
    "papermill": {
     "duration": 0.017609,
     "end_time": "2022-08-16T19:43:37.148092",
     "exception": false,
     "start_time": "2022-08-16T19:43:37.130483",
     "status": "completed"
    },
    "tags": []
   },
   "outputs": [
    {
     "name": "stdout",
     "output_type": "stream",
     "text": [
      "X_train shape:  (42000, 28, 28, 1)\n",
      "X_test shape:  (28000, 28, 28, 1)\n"
     ]
    }
   ],
   "source": [
    "# Reshape all data to 28x28x1 3D matrices\n",
    "X_train = X_train.values.reshape(-1,28,28,1) # Keras needs an extra dimension in the end (channels)\n",
    "X_test = df_test.values.reshape(-1,28,28,1)\n",
    "print(\"X_train shape: \",X_train.shape)\n",
    "print(\"X_test shape: \",X_test.shape)"
   ]
  },
  {
   "cell_type": "code",
   "execution_count": 12,
   "id": "6aa28aff",
   "metadata": {
    "execution": {
     "iopub.execute_input": "2022-08-16T19:43:37.162764Z",
     "iopub.status.busy": "2022-08-16T19:43:37.162491Z",
     "iopub.status.idle": "2022-08-16T19:43:37.708797Z",
     "shell.execute_reply": "2022-08-16T19:43:37.707794Z"
    },
    "papermill": {
     "duration": 0.556768,
     "end_time": "2022-08-16T19:43:37.711624",
     "exception": false,
     "start_time": "2022-08-16T19:43:37.154856",
     "status": "completed"
    },
    "tags": []
   },
   "outputs": [
    {
     "name": "stdout",
     "output_type": "stream",
     "text": [
      "[[0. 1. 0. ... 0. 0. 0.]\n",
      " [1. 0. 0. ... 0. 0. 0.]\n",
      " [0. 1. 0. ... 0. 0. 0.]\n",
      " ...\n",
      " [0. 0. 0. ... 1. 0. 0.]\n",
      " [0. 0. 0. ... 0. 0. 0.]\n",
      " [0. 0. 0. ... 0. 0. 1.]]\n"
     ]
    }
   ],
   "source": [
    "# Label Encoding \n",
    "from keras.utils.np_utils import to_categorical \n",
    "Y_train = to_categorical(Y_train, num_classes = 10)\n",
    "print(Y_train)"
   ]
  },
  {
   "cell_type": "markdown",
   "id": "c76fb47f",
   "metadata": {
    "papermill": {
     "duration": 0.006717,
     "end_time": "2022-08-16T19:43:37.726257",
     "exception": false,
     "start_time": "2022-08-16T19:43:37.719540",
     "status": "completed"
    },
    "tags": []
   },
   "source": [
    "# Train Test Split"
   ]
  },
  {
   "cell_type": "code",
   "execution_count": 13,
   "id": "e3d6d61c",
   "metadata": {
    "execution": {
     "iopub.execute_input": "2022-08-16T19:43:37.742464Z",
     "iopub.status.busy": "2022-08-16T19:43:37.740837Z",
     "iopub.status.idle": "2022-08-16T19:43:38.281560Z",
     "shell.execute_reply": "2022-08-16T19:43:38.280010Z"
    },
    "papermill": {
     "duration": 0.551311,
     "end_time": "2022-08-16T19:43:38.284395",
     "exception": false,
     "start_time": "2022-08-16T19:43:37.733084",
     "status": "completed"
    },
    "tags": []
   },
   "outputs": [
    {
     "name": "stdout",
     "output_type": "stream",
     "text": [
      "x_train shape (37800, 28, 28, 1)\n",
      "X_val shape (4200, 28, 28, 1)\n",
      "y_train shape (37800, 10)\n",
      "y_val shape (4200, 10)\n"
     ]
    }
   ],
   "source": [
    "# Split the train and the validation set for the fitting\n",
    "from sklearn.model_selection import train_test_split\n",
    "X_train, X_val, Y_train, Y_val = train_test_split(X_train, Y_train, test_size = 0.1, random_state=2)\n",
    "print(\"x_train shape\",X_train.shape)\n",
    "print(\"X_val shape\",X_val.shape)\n",
    "print(\"y_train shape\",Y_train.shape)\n",
    "print(\"y_val shape\",Y_val.shape)"
   ]
  },
  {
   "cell_type": "code",
   "execution_count": 14,
   "id": "9c4c1794",
   "metadata": {
    "execution": {
     "iopub.execute_input": "2022-08-16T19:43:38.300313Z",
     "iopub.status.busy": "2022-08-16T19:43:38.299914Z",
     "iopub.status.idle": "2022-08-16T19:43:38.473579Z",
     "shell.execute_reply": "2022-08-16T19:43:38.472563Z"
    },
    "papermill": {
     "duration": 0.183827,
     "end_time": "2022-08-16T19:43:38.475714",
     "exception": false,
     "start_time": "2022-08-16T19:43:38.291887",
     "status": "completed"
    },
    "tags": []
   },
   "outputs": [
    {
     "data": {
      "image/png": "[encoded data removed]",
      "text/plain": [
       "<Figure size 432x288 with 1 Axes>"
      ]
     },
     "metadata": {
      "needs_background": "light"
     },
     "output_type": "display_data"
    }
   ],
   "source": [
    "# Some examples\n",
    "plt.imshow(X_train[21][:,:,0],cmap='gray')\n",
    "plt.show()"
   ]
  },
  {
   "cell_type": "markdown",
   "id": "c47da08f",
   "metadata": {
    "papermill": {
     "duration": 0.007069,
     "end_time": "2022-08-16T19:43:38.489998",
     "exception": false,
     "start_time": "2022-08-16T19:43:38.482929",
     "status": "completed"
    },
    "tags": []
   },
   "source": [
    "# Convolutional Neural Network\n",
    "\n",
    "Running convolutions and pooling for feature detection."
   ]
  },
  {
   "cell_type": "code",
   "execution_count": 15,
   "id": "1d2a2029",
   "metadata": {
    "execution": {
     "iopub.execute_input": "2022-08-16T19:43:38.506200Z",
     "iopub.status.busy": "2022-08-16T19:43:38.505393Z",
     "iopub.status.idle": "2022-08-16T19:43:41.441647Z",
     "shell.execute_reply": "2022-08-16T19:43:41.440667Z"
    },
    "papermill": {
     "duration": 2.948941,
     "end_time": "2022-08-16T19:43:41.446450",
     "exception": false,
     "start_time": "2022-08-16T19:43:38.497509",
     "status": "completed"
    },
    "tags": []
   },
   "outputs": [
    {
     "name": "stderr",
     "output_type": "stream",
     "text": [
      "2022-08-16 19:43:38.601373: I tensorflow/stream_executor/cuda/cuda_gpu_executor.cc:937] successful NUMA node read from SysFS had negative value (-1), but there must be at least one NUMA node, so returning NUMA node zero\n"
     ]
    },
    {
     "name": "stdout",
     "output_type": "stream",
     "text": [
      "Model: \"sequential\"\n",
      "_________________________________________________________________\n",
      "Layer (type)                 Output Shape              Param #   \n",
      "=================================================================\n",
      "conv2d (Conv2D)              (None, 28, 28, 8)         208       \n",
      "_________________________________________________________________\n",
      "max_pooling2d (MaxPooling2D) (None, 14, 14, 8)         0         \n",
      "_________________________________________________________________\n",
      "dropout (Dropout)            (None, 14, 14, 8)         0         \n",
      "_________________________________________________________________\n",
      "conv2d_1 (Conv2D)            (None, 14, 14, 16)        1168      \n",
      "_________________________________________________________________\n",
      "max_pooling2d_1 (MaxPooling2 (None, 7, 7, 16)          0         \n",
      "_________________________________________________________________\n",
      "dropout_1 (Dropout)          (None, 7, 7, 16)          0         \n",
      "_________________________________________________________________\n",
      "flatten (Flatten)            (None, 784)               0         \n",
      "_________________________________________________________________\n",
      "dense (Dense)                (None, 256)               200960    \n",
      "_________________________________________________________________\n",
      "dropout_2 (Dropout)          (None, 256)               0         \n",
      "_________________________________________________________________\n",
      "dense_1 (Dense)              (None, 10)                2570      \n",
      "=================================================================\n",
      "Total params: 204,906\n",
      "Trainable params: 204,906\n",
      "Non-trainable params: 0\n",
      "_________________________________________________________________\n"
     ]
    },
    {
     "name": "stderr",
     "output_type": "stream",
     "text": [
      "2022-08-16 19:43:38.711177: I tensorflow/stream_executor/cuda/cuda_gpu_executor.cc:937] successful NUMA node read from SysFS had negative value (-1), but there must be at least one NUMA node, so returning NUMA node zero\n",
      "2022-08-16 19:43:38.711961: I tensorflow/stream_executor/cuda/cuda_gpu_executor.cc:937] successful NUMA node read from SysFS had negative value (-1), but there must be at least one NUMA node, so returning NUMA node zero\n",
      "2022-08-16 19:43:38.713578: I tensorflow/core/platform/cpu_feature_guard.cc:142] This TensorFlow binary is optimized with oneAPI Deep Neural Network Library (oneDNN) to use the following CPU instructions in performance-critical operations:  AVX2 AVX512F FMA\n",
      "To enable them in other operations, rebuild TensorFlow with the appropriate compiler flags.\n",
      "2022-08-16 19:43:38.713892: I tensorflow/stream_executor/cuda/cuda_gpu_executor.cc:937] successful NUMA node read from SysFS had negative value (-1), but there must be at least one NUMA node, so returning NUMA node zero\n",
      "2022-08-16 19:43:38.714624: I tensorflow/stream_executor/cuda/cuda_gpu_executor.cc:937] successful NUMA node read from SysFS had negative value (-1), but there must be at least one NUMA node, so returning NUMA node zero\n",
      "2022-08-16 19:43:38.715279: I tensorflow/stream_executor/cuda/cuda_gpu_executor.cc:937] successful NUMA node read from SysFS had negative value (-1), but there must be at least one NUMA node, so returning NUMA node zero\n",
      "2022-08-16 19:43:40.995628: I tensorflow/stream_executor/cuda/cuda_gpu_executor.cc:937] successful NUMA node read from SysFS had negative value (-1), but there must be at least one NUMA node, so returning NUMA node zero\n",
      "2022-08-16 19:43:40.996545: I tensorflow/stream_executor/cuda/cuda_gpu_executor.cc:937] successful NUMA node read from SysFS had negative value (-1), but there must be at least one NUMA node, so returning NUMA node zero\n",
      "2022-08-16 19:43:40.997235: I tensorflow/stream_executor/cuda/cuda_gpu_executor.cc:937] successful NUMA node read from SysFS had negative value (-1), but there must be at least one NUMA node, so returning NUMA node zero\n",
      "2022-08-16 19:43:40.997836: I tensorflow/core/common_runtime/gpu/gpu_device.cc:1510] Created device /job:localhost/replica:0/task:0/device:GPU:0 with 15403 MB memory:  -> device: 0, name: Tesla P100-PCIE-16GB, pci bus id: 0000:00:04.0, compute capability: 6.0\n"
     ]
    }
   ],
   "source": [
    "from sklearn.metrics import confusion_matrix\n",
    "import itertools\n",
    "\n",
    "from keras.models import Sequential\n",
    "from keras.layers import Dense, Dropout, Flatten, Conv2D, MaxPool2D\n",
    "from keras.preprocessing.image import ImageDataGenerator\n",
    "from keras.callbacks import ReduceLROnPlateau\n",
    "\n",
    "model = Sequential()\n",
    "model.add(Conv2D(filters = 8, kernel_size = (5,5), padding = 'Same', \n",
    "                 activation ='relu', input_shape = (28,28,1)))\n",
    "model.add(MaxPool2D(pool_size=(2,2)))\n",
    "model.add(Dropout(0.25))\n",
    "\n",
    "model.add(Conv2D(filters = 16, kernel_size = (3,3), padding = 'Same', \n",
    "                 activation ='relu'))\n",
    "model.add(MaxPool2D(pool_size=(2,2), strides=(2,2)))\n",
    "model.add(Dropout(0.25))\n",
    "\n",
    "model.add(Flatten())\n",
    "model.add(Dense(256, activation = \"relu\"))\n",
    "model.add(Dropout(0.5))\n",
    "model.add(Dense(10, activation = \"softmax\"))\n",
    "\n",
    "model.summary()"
   ]
  },
  {
   "cell_type": "code",
   "execution_count": 16,
   "id": "f607449d",
   "metadata": {
    "execution": {
     "iopub.execute_input": "2022-08-16T19:43:41.465513Z",
     "iopub.status.busy": "2022-08-16T19:43:41.464645Z",
     "iopub.status.idle": "2022-08-16T19:43:41.855871Z",
     "shell.execute_reply": "2022-08-16T19:43:41.854904Z"
    },
    "papermill": {
     "duration": 0.402762,
     "end_time": "2022-08-16T19:43:41.858333",
     "exception": false,
     "start_time": "2022-08-16T19:43:41.455571",
     "status": "completed"
    },
    "tags": []
   },
   "outputs": [],
   "source": [
    "# Compile the model\n",
    "model.compile(\n",
    "    optimizer = tf.keras.optimizers.Adam(), \n",
    "    loss = \"categorical_crossentropy\",\n",
    "    metrics=[\"accuracy\"]\n",
    ")"
   ]
  },
  {
   "cell_type": "code",
   "execution_count": 17,
   "id": "221766ab",
   "metadata": {
    "execution": {
     "iopub.execute_input": "2022-08-16T19:43:41.876814Z",
     "iopub.status.busy": "2022-08-16T19:43:41.875022Z",
     "iopub.status.idle": "2022-08-16T19:43:41.880799Z",
     "shell.execute_reply": "2022-08-16T19:43:41.879910Z"
    },
    "papermill": {
     "duration": 0.016722,
     "end_time": "2022-08-16T19:43:41.882701",
     "exception": false,
     "start_time": "2022-08-16T19:43:41.865979",
     "status": "completed"
    },
    "tags": []
   },
   "outputs": [],
   "source": [
    "epochs = 30 # Turn up to get more accuracy\n",
    "batch_size = 250"
   ]
  },
  {
   "cell_type": "markdown",
   "id": "dc4ceb16",
   "metadata": {
    "papermill": {
     "duration": 0.007101,
     "end_time": "2022-08-16T19:43:41.896952",
     "exception": false,
     "start_time": "2022-08-16T19:43:41.889851",
     "status": "completed"
    },
    "tags": []
   },
   "source": [
    "# Data Augmentation\n",
    "\n",
    "... to avoid or at least reduce overfitting."
   ]
  },
  {
   "cell_type": "code",
   "execution_count": 18,
   "id": "c3a4a78a",
   "metadata": {
    "execution": {
     "iopub.execute_input": "2022-08-16T19:43:41.913654Z",
     "iopub.status.busy": "2022-08-16T19:43:41.912260Z",
     "iopub.status.idle": "2022-08-16T19:43:42.007474Z",
     "shell.execute_reply": "2022-08-16T19:43:42.006488Z"
    },
    "papermill": {
     "duration": 0.105843,
     "end_time": "2022-08-16T19:43:42.009960",
     "exception": false,
     "start_time": "2022-08-16T19:43:41.904117",
     "status": "completed"
    },
    "tags": []
   },
   "outputs": [],
   "source": [
    "# Data augmentation\n",
    "datagen = ImageDataGenerator(\n",
    "        featurewise_center=False,  # set input mean to 0 over the dataset\n",
    "        samplewise_center=False,  # set each sample mean to 0\n",
    "        featurewise_std_normalization=False,  # divide inputs by std of the dataset\n",
    "        samplewise_std_normalization=False,  # divide each input by its std\n",
    "        zca_whitening=False,  # dimesion reduction\n",
    "        rotation_range=10,  # randomly rotate images in the range 10 degrees\n",
    "        zoom_range = 0.1, # Randomly zoom image 10%\n",
    "        width_shift_range=0.1,  # randomly shift images horizontally 10%\n",
    "        height_shift_range=0.1,  # randomly shift images vertically 10%\n",
    "        horizontal_flip=False,  # randomly flip images\n",
    "        vertical_flip=False)  # randomly flip images\n",
    "\n",
    "datagen.fit(X_train)"
   ]
  },
  {
   "cell_type": "markdown",
   "id": "e14875db",
   "metadata": {
    "papermill": {
     "duration": 0.007938,
     "end_time": "2022-08-16T19:43:42.026456",
     "exception": false,
     "start_time": "2022-08-16T19:43:42.018518",
     "status": "completed"
    },
    "tags": []
   },
   "source": [
    "# Train and evaluate the CNN"
   ]
  },
  {
   "cell_type": "code",
   "execution_count": 19,
   "id": "813bc8b4",
   "metadata": {
    "execution": {
     "iopub.execute_input": "2022-08-16T19:43:42.044870Z",
     "iopub.status.busy": "2022-08-16T19:43:42.043265Z",
     "iopub.status.idle": "2022-08-16T19:48:40.009479Z",
     "shell.execute_reply": "2022-08-16T19:48:40.008309Z"
    },
    "papermill": {
     "duration": 297.977679,
     "end_time": "2022-08-16T19:48:40.011981",
     "exception": false,
     "start_time": "2022-08-16T19:43:42.034302",
     "status": "completed"
    },
    "tags": []
   },
   "outputs": [
    {
     "name": "stderr",
     "output_type": "stream",
     "text": [
      "2022-08-16 19:43:42.214475: I tensorflow/compiler/mlir/mlir_graph_optimization_pass.cc:185] None of the MLIR Optimization Passes are enabled (registered 2)\n"
     ]
    },
    {
     "name": "stdout",
     "output_type": "stream",
     "text": [
      "Epoch 1/30\n"
     ]
    },
    {
     "name": "stderr",
     "output_type": "stream",
     "text": [
      "2022-08-16 19:43:43.645107: I tensorflow/stream_executor/cuda/cuda_dnn.cc:369] Loaded cuDNN version 8005\n"
     ]
    },
    {
     "name": "stdout",
     "output_type": "stream",
     "text": [
      "151/151 [==============================] - 16s 60ms/step - loss: 1.1316 - accuracy: 0.6215 - val_loss: 0.2174 - val_accuracy: 0.9440\n",
      "Epoch 2/30\n",
      "151/151 [==============================] - 8s 51ms/step - loss: 0.4447 - accuracy: 0.8598 - val_loss: 0.1310 - val_accuracy: 0.9657\n",
      "Epoch 3/30\n",
      "151/151 [==============================] - 8s 53ms/step - loss: 0.3280 - accuracy: 0.8990 - val_loss: 0.0963 - val_accuracy: 0.9712\n",
      "Epoch 4/30\n",
      "151/151 [==============================] - 8s 54ms/step - loss: 0.2719 - accuracy: 0.9153 - val_loss: 0.0786 - val_accuracy: 0.9755\n",
      "Epoch 5/30\n",
      "151/151 [==============================] - 8s 54ms/step - loss: 0.2455 - accuracy: 0.9236 - val_loss: 0.0723 - val_accuracy: 0.9793\n",
      "Epoch 6/30\n",
      "151/151 [==============================] - 8s 55ms/step - loss: 0.2199 - accuracy: 0.9322 - val_loss: 0.0641 - val_accuracy: 0.9798\n",
      "Epoch 7/30\n",
      "151/151 [==============================] - 8s 53ms/step - loss: 0.1947 - accuracy: 0.9400 - val_loss: 0.0587 - val_accuracy: 0.9814\n",
      "Epoch 8/30\n",
      "151/151 [==============================] - 8s 54ms/step - loss: 0.1882 - accuracy: 0.9419 - val_loss: 0.0523 - val_accuracy: 0.9838\n",
      "Epoch 9/30\n",
      "151/151 [==============================] - 8s 53ms/step - loss: 0.1818 - accuracy: 0.9430 - val_loss: 0.0538 - val_accuracy: 0.9833\n",
      "Epoch 10/30\n",
      "151/151 [==============================] - 8s 54ms/step - loss: 0.1688 - accuracy: 0.9481 - val_loss: 0.0470 - val_accuracy: 0.9864\n",
      "Epoch 11/30\n",
      "151/151 [==============================] - 8s 54ms/step - loss: 0.1632 - accuracy: 0.9488 - val_loss: 0.0447 - val_accuracy: 0.9879\n",
      "Epoch 12/30\n",
      "151/151 [==============================] - 8s 55ms/step - loss: 0.1585 - accuracy: 0.9512 - val_loss: 0.0443 - val_accuracy: 0.9871\n",
      "Epoch 13/30\n",
      "151/151 [==============================] - 8s 56ms/step - loss: 0.1484 - accuracy: 0.9543 - val_loss: 0.0458 - val_accuracy: 0.9867\n",
      "Epoch 14/30\n",
      "151/151 [==============================] - 8s 55ms/step - loss: 0.1479 - accuracy: 0.9538 - val_loss: 0.0419 - val_accuracy: 0.9881\n",
      "Epoch 15/30\n",
      "151/151 [==============================] - 8s 55ms/step - loss: 0.1407 - accuracy: 0.9559 - val_loss: 0.0396 - val_accuracy: 0.9883\n",
      "Epoch 16/30\n",
      "151/151 [==============================] - 8s 55ms/step - loss: 0.1379 - accuracy: 0.9572 - val_loss: 0.0394 - val_accuracy: 0.9876\n",
      "Epoch 17/30\n",
      "151/151 [==============================] - 8s 55ms/step - loss: 0.1305 - accuracy: 0.9575 - val_loss: 0.0405 - val_accuracy: 0.9871\n",
      "Epoch 18/30\n",
      "151/151 [==============================] - 8s 54ms/step - loss: 0.1304 - accuracy: 0.9583 - val_loss: 0.0364 - val_accuracy: 0.9888\n",
      "Epoch 19/30\n",
      "151/151 [==============================] - 8s 54ms/step - loss: 0.1293 - accuracy: 0.9603 - val_loss: 0.0354 - val_accuracy: 0.9883\n",
      "Epoch 20/30\n",
      "151/151 [==============================] - 8s 55ms/step - loss: 0.1271 - accuracy: 0.9614 - val_loss: 0.0340 - val_accuracy: 0.9898\n",
      "Epoch 21/30\n",
      "151/151 [==============================] - 8s 56ms/step - loss: 0.1176 - accuracy: 0.9641 - val_loss: 0.0381 - val_accuracy: 0.9879\n",
      "Epoch 22/30\n",
      "151/151 [==============================] - 8s 55ms/step - loss: 0.1224 - accuracy: 0.9622 - val_loss: 0.0351 - val_accuracy: 0.9883\n",
      "Epoch 23/30\n",
      "151/151 [==============================] - 8s 54ms/step - loss: 0.1145 - accuracy: 0.9647 - val_loss: 0.0363 - val_accuracy: 0.9900\n",
      "Epoch 24/30\n",
      "151/151 [==============================] - 8s 54ms/step - loss: 0.1153 - accuracy: 0.9654 - val_loss: 0.0332 - val_accuracy: 0.9900\n",
      "Epoch 25/30\n",
      "151/151 [==============================] - 8s 53ms/step - loss: 0.1127 - accuracy: 0.9657 - val_loss: 0.0317 - val_accuracy: 0.9895\n",
      "Epoch 26/30\n",
      "151/151 [==============================] - 8s 56ms/step - loss: 0.1111 - accuracy: 0.9659 - val_loss: 0.0334 - val_accuracy: 0.9890\n",
      "Epoch 27/30\n",
      "151/151 [==============================] - 8s 54ms/step - loss: 0.1102 - accuracy: 0.9668 - val_loss: 0.0323 - val_accuracy: 0.9898\n",
      "Epoch 28/30\n",
      "151/151 [==============================] - 8s 55ms/step - loss: 0.1060 - accuracy: 0.9675 - val_loss: 0.0314 - val_accuracy: 0.9910\n",
      "Epoch 29/30\n",
      "151/151 [==============================] - 8s 54ms/step - loss: 0.1076 - accuracy: 0.9668 - val_loss: 0.0300 - val_accuracy: 0.9902\n",
      "Epoch 30/30\n",
      "151/151 [==============================] - 9s 56ms/step - loss: 0.1095 - accuracy: 0.9662 - val_loss: 0.0306 - val_accuracy: 0.9902\n"
     ]
    }
   ],
   "source": [
    "# Fit the model\n",
    "history = model.fit_generator(datagen.flow(X_train,Y_train, batch_size=batch_size),\n",
    "                              epochs = epochs, validation_data = (X_val,Y_val), steps_per_epoch=X_train.shape[0] // batch_size)"
   ]
  },
  {
   "cell_type": "code",
   "execution_count": 20,
   "id": "f6c7ce59",
   "metadata": {
    "execution": {
     "iopub.execute_input": "2022-08-16T19:48:40.442755Z",
     "iopub.status.busy": "2022-08-16T19:48:40.442391Z",
     "iopub.status.idle": "2022-08-16T19:48:40.803167Z",
     "shell.execute_reply": "2022-08-16T19:48:40.802224Z"
    },
    "papermill": {
     "duration": 0.550797,
     "end_time": "2022-08-16T19:48:40.805471",
     "exception": false,
     "start_time": "2022-08-16T19:48:40.254674",
     "status": "completed"
    },
    "tags": []
   },
   "outputs": [
    {
     "data": {
      "image/png": "[encoded data removed]",
      "text/plain": [
       "<Figure size 432x288 with 1 Axes>"
      ]
     },
     "metadata": {
      "needs_background": "light"
     },
     "output_type": "display_data"
    },
    {
     "data": {
      "image/png": "[encoded data removed]",
      "text/plain": [
       "<Figure size 432x288 with 1 Axes>"
      ]
     },
     "metadata": {
      "needs_background": "light"
     },
     "output_type": "display_data"
    }
   ],
   "source": [
    "history_df = pd.DataFrame(history.history)\n",
    "history_df.loc[:, ['loss', 'val_loss']].plot();\n",
    "history_df.loc[:, ['accuracy', 'val_accuracy']].plot();"
   ]
  },
  {
   "cell_type": "code",
   "execution_count": 21,
   "id": "86966fa4",
   "metadata": {
    "execution": {
     "iopub.execute_input": "2022-08-16T19:48:41.182601Z",
     "iopub.status.busy": "2022-08-16T19:48:41.182223Z",
     "iopub.status.idle": "2022-08-16T19:48:41.388977Z",
     "shell.execute_reply": "2022-08-16T19:48:41.388075Z"
    },
    "papermill": {
     "duration": 0.397628,
     "end_time": "2022-08-16T19:48:41.391048",
     "exception": false,
     "start_time": "2022-08-16T19:48:40.993420",
     "status": "completed"
    },
    "tags": []
   },
   "outputs": [
    {
     "data": {
      "image/png": "[encoded data removed]",
      "text/plain": [
       "<Figure size 432x288 with 1 Axes>"
      ]
     },
     "metadata": {
      "needs_background": "light"
     },
     "output_type": "display_data"
    }
   ],
   "source": [
    "# Plot the loss and accuracy curves for training and validation \n",
    "plt.plot(history.history['val_loss'], color='b', label=\"validation loss\")\n",
    "plt.title(\"Test Loss\")\n",
    "plt.xlabel(\"Number of Epochs\")\n",
    "plt.ylabel(\"Loss\")\n",
    "plt.legend()\n",
    "plt.show()"
   ]
  },
  {
   "cell_type": "code",
   "execution_count": 22,
   "id": "71fcc29f",
   "metadata": {
    "execution": {
     "iopub.execute_input": "2022-08-16T19:48:41.775442Z",
     "iopub.status.busy": "2022-08-16T19:48:41.774772Z",
     "iopub.status.idle": "2022-08-16T19:48:43.576636Z",
     "shell.execute_reply": "2022-08-16T19:48:43.575636Z"
    },
    "papermill": {
     "duration": 1.991656,
     "end_time": "2022-08-16T19:48:43.578916",
     "exception": false,
     "start_time": "2022-08-16T19:48:41.587260",
     "status": "completed"
    },
    "tags": []
   },
   "outputs": [],
   "source": [
    "# Submit to Kaggle Competition\n",
    "results = model.predict(\n",
    "    X_test,    \n",
    "    verbose='auto',    \n",
    ")\n",
    "\n",
    "results = np.argmax(results,axis = 1)\n",
    "results = pd.Series(results,name=\"Label\")\n",
    "submission = pd.concat([pd.Series(range(1,28001),name = \"ImageId\"),results],axis = 1)\n",
    "submission.to_csv(\"submission.csv\",index=False)"
   ]
  }
 ],
 "metadata": {
  "kernelspec": {
   "display_name": "Python 3",
   "language": "python",
   "name": "python3"
  },
  "language_info": {
   "codemirror_mode": {
    "name": "ipython",
    "version": 3
   },
   "file_extension": ".py",
   "mimetype": "text/x-python",
   "name": "python",
   "nbconvert_exporter": "python",
   "pygments_lexer": "ipython3",
   "version": "3.7.12"
  },
  "papermill": {
   "default_parameters": {},
   "duration": 328.465386,
   "end_time": "2022-08-16T19:48:46.967619",
   "environment_variables": {},
   "exception": null,
   "input_path": "__notebook__.ipynb",
   "output_path": "__notebook__.ipynb",
   "parameters": {},
   "start_time": "2022-08-16T19:43:18.502233",
   "version": "2.3.4"
  }
 },
 "nbformat": 4,
 "nbformat_minor": 5
}
